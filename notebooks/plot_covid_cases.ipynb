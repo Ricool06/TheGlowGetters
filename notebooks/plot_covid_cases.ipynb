{
 "cells": [
  {
   "cell_type": "markdown",
   "metadata": {},
   "source": [
    "# Altair plots for the front-end"
   ]
  },
  {
   "cell_type": "code",
   "execution_count": 1,
   "metadata": {},
   "outputs": [],
   "source": [
    "import altair as alt\n",
    "from pathlib import Path\n",
    "import pandas as pd\n",
    "import numpy as np\n",
    "import requests"
   ]
  },
  {
   "cell_type": "code",
   "execution_count": 2,
   "metadata": {},
   "outputs": [],
   "source": [
    "HOME = Path.cwd().parent\n",
    "DATA = HOME / \"data\" / \"raw\""
   ]
  },
  {
   "cell_type": "markdown",
   "metadata": {},
   "source": [
    "## London Chart"
   ]
  },
  {
   "cell_type": "code",
   "execution_count": 3,
   "metadata": {},
   "outputs": [],
   "source": [
    "filename = \"phe_cases_london_england.csv\"\n",
    "df = pd.read_csv(DATA / filename)"
   ]
  },
  {
   "cell_type": "code",
   "execution_count": 4,
   "metadata": {},
   "outputs": [
    {
     "name": "stderr",
     "output_type": "stream",
     "text": [
      "/home/alangel/anaconda3/envs/nasa/lib/python3.7/site-packages/ipykernel_launcher.py:2: SettingWithCopyWarning: \n",
      "A value is trying to be set on a copy of a slice from a DataFrame.\n",
      "Try using .loc[row_indexer,col_indexer] = value instead\n",
      "\n",
      "See the caveats in the documentation: https://pandas.pydata.org/pandas-docs/stable/user_guide/indexing.html#returning-a-view-versus-a-copy\n",
      "  \n"
     ]
    }
   ],
   "source": [
    "df_london = df.loc[df[\"area_name\"] == \"London\"]\n",
    "df_london[\"date\"] = pd.to_datetime(df_london[\"date\"])"
   ]
  },
  {
   "cell_type": "code",
   "execution_count": 5,
   "metadata": {},
   "outputs": [
    {
     "data": {
      "text/html": [
       "\n",
       "<div id=\"altair-viz-ede6e5518e0944ebb1ab91139205137f\"></div>\n",
       "<script type=\"text/javascript\">\n",
       "  (function(spec, embedOpt){\n",
       "    let outputDiv = document.currentScript.previousElementSibling;\n",
       "    if (outputDiv.id !== \"altair-viz-ede6e5518e0944ebb1ab91139205137f\") {\n",
       "      outputDiv = document.getElementById(\"altair-viz-ede6e5518e0944ebb1ab91139205137f\");\n",
       "    }\n",
       "    const paths = {\n",
       "      \"vega\": \"https://cdn.jsdelivr.net/npm//vega@5?noext\",\n",
       "      \"vega-lib\": \"https://cdn.jsdelivr.net/npm//vega-lib?noext\",\n",
       "      \"vega-lite\": \"https://cdn.jsdelivr.net/npm//vega-lite@4.8.1?noext\",\n",
       "      \"vega-embed\": \"https://cdn.jsdelivr.net/npm//vega-embed@6?noext\",\n",
       "    };\n",
       "\n",
       "    function loadScript(lib) {\n",
       "      return new Promise(function(resolve, reject) {\n",
       "        var s = document.createElement('script');\n",
       "        s.src = paths[lib];\n",
       "        s.async = true;\n",
       "        s.onload = () => resolve(paths[lib]);\n",
       "        s.onerror = () => reject(`Error loading script: ${paths[lib]}`);\n",
       "        document.getElementsByTagName(\"head\")[0].appendChild(s);\n",
       "      });\n",
       "    }\n",
       "\n",
       "    function showError(err) {\n",
       "      outputDiv.innerHTML = `<div class=\"error\" style=\"color:red;\">${err}</div>`;\n",
       "      throw err;\n",
       "    }\n",
       "\n",
       "    function displayChart(vegaEmbed) {\n",
       "      vegaEmbed(outputDiv, spec, embedOpt)\n",
       "        .catch(err => showError(`Javascript Error: ${err.message}<br>This usually means there's a typo in your chart specification. See the javascript console for the full traceback.`));\n",
       "    }\n",
       "\n",
       "    if(typeof define === \"function\" && define.amd) {\n",
       "      requirejs.config({paths});\n",
       "      require([\"vega-embed\"], displayChart, err => showError(`Error loading script: ${err.message}`));\n",
       "    } else if (typeof vegaEmbed === \"function\") {\n",
       "      displayChart(vegaEmbed);\n",
       "    } else {\n",
       "      loadScript(\"vega\")\n",
       "        .then(() => loadScript(\"vega-lite\"))\n",
       "        .then(() => loadScript(\"vega-embed\"))\n",
       "        .catch(showError)\n",
       "        .then(() => displayChart(vegaEmbed));\n",
       "    }\n",
       "  })({\"config\": {\"view\": {\"continuousWidth\": 400, \"continuousHeight\": 300}}, \"vconcat\": [{\"mark\": {\"type\": \"bar\", \"color\": \"#1e88e5\"}, \"encoding\": {\"color\": {\"condition\": {\"value\": \"#1e88e5\", \"selection\": {\"not\": \"selector002\"}}, \"value\": \"#b1010f\"}, \"size\": {\"condition\": {\"value\": 3, \"selection\": {\"not\": \"selector002\"}}, \"value\": 6}, \"tooltip\": [{\"type\": \"nominal\", \"field\": \"area_name\", \"title\": \"Area Name\"}, {\"type\": \"temporal\", \"field\": \"date\", \"title\": \"Date\"}, {\"type\": \"quantitative\", \"field\": \"new_cases\", \"title\": \"Daily new cases\"}, {\"type\": \"quantitative\", \"field\": \"total_cases\", \"title\": \"Total cases\"}], \"x\": {\"type\": \"temporal\", \"axis\": {\"labels\": false, \"title\": \" \"}, \"field\": \"date\", \"scale\": {\"domain\": {\"selection\": \"selector001\"}}}, \"y\": {\"type\": \"quantitative\", \"axis\": {\"title\": \"Daily number of cases\"}, \"field\": \"new_cases\"}}, \"height\": 250, \"selection\": {\"selector002\": {\"type\": \"single\", \"on\": \"mouseover\", \"fields\": [\"date\"], \"nearest\": true}}, \"title\": \"COVID-19 impact in London Area\", \"width\": 800}, {\"mark\": {\"type\": \"bar\", \"color\": \"#1e88e5\"}, \"encoding\": {\"color\": {\"condition\": {\"value\": \"#1e88e5\", \"selection\": \"selector001\"}, \"value\": \"lightgray\"}, \"x\": {\"type\": \"temporal\", \"axis\": {\"title\": \" \"}, \"field\": \"date\"}, \"y\": {\"type\": \"quantitative\", \"axis\": {\"title\": \" \"}, \"field\": \"new_cases\"}}, \"height\": 60, \"selection\": {\"selector001\": {\"type\": \"interval\", \"encodings\": [\"x\"]}}, \"width\": 800}], \"data\": {\"name\": \"data-5a487dcb07092a17a4c462339895b844\"}, \"$schema\": \"https://vega.github.io/schema/vega-lite/v4.8.1.json\", \"datasets\": {\"data-5a487dcb07092a17a4c462339895b844\": [{\"date\": \"2020-01-30T00:00:00\", \"area_name\": \"London\", \"new_cases\": 0, \"total_cases\": 0}, {\"date\": \"2020-01-31T00:00:00\", \"area_name\": \"London\", \"new_cases\": 0, \"total_cases\": 0}, {\"date\": \"2020-02-01T00:00:00\", \"area_name\": \"London\", \"new_cases\": 0, \"total_cases\": 0}, {\"date\": \"2020-02-02T00:00:00\", \"area_name\": \"London\", \"new_cases\": 0, \"total_cases\": 0}, {\"date\": \"2020-02-03T00:00:00\", \"area_name\": \"London\", \"new_cases\": 0, \"total_cases\": 0}, {\"date\": \"2020-02-04T00:00:00\", \"area_name\": \"London\", \"new_cases\": 0, \"total_cases\": 0}, {\"date\": \"2020-02-05T00:00:00\", \"area_name\": \"London\", \"new_cases\": 0, \"total_cases\": 0}, {\"date\": \"2020-02-06T00:00:00\", \"area_name\": \"London\", \"new_cases\": 0, \"total_cases\": 0}, {\"date\": \"2020-02-07T00:00:00\", \"area_name\": \"London\", \"new_cases\": 0, \"total_cases\": 0}, {\"date\": \"2020-02-08T00:00:00\", \"area_name\": \"London\", \"new_cases\": 0, \"total_cases\": 0}, {\"date\": \"2020-02-09T00:00:00\", \"area_name\": \"London\", \"new_cases\": 0, \"total_cases\": 0}, {\"date\": \"2020-02-10T00:00:00\", \"area_name\": \"London\", \"new_cases\": 0, \"total_cases\": 0}, {\"date\": \"2020-02-11T00:00:00\", \"area_name\": \"London\", \"new_cases\": 1, \"total_cases\": 1}, {\"date\": \"2020-02-12T00:00:00\", \"area_name\": \"London\", \"new_cases\": 0, \"total_cases\": 1}, {\"date\": \"2020-02-13T00:00:00\", \"area_name\": \"London\", \"new_cases\": 1, \"total_cases\": 2}, {\"date\": \"2020-02-14T00:00:00\", \"area_name\": \"London\", \"new_cases\": 0, \"total_cases\": 2}, {\"date\": \"2020-02-15T00:00:00\", \"area_name\": \"London\", \"new_cases\": 0, \"total_cases\": 2}, {\"date\": \"2020-02-16T00:00:00\", \"area_name\": \"London\", \"new_cases\": 0, \"total_cases\": 2}, {\"date\": \"2020-02-17T00:00:00\", \"area_name\": \"London\", \"new_cases\": 1, \"total_cases\": 3}, {\"date\": \"2020-02-18T00:00:00\", \"area_name\": \"London\", \"new_cases\": 0, \"total_cases\": 3}, {\"date\": \"2020-02-19T00:00:00\", \"area_name\": \"London\", \"new_cases\": 1, \"total_cases\": 4}, {\"date\": \"2020-02-20T00:00:00\", \"area_name\": \"London\", \"new_cases\": 0, \"total_cases\": 4}, {\"date\": \"2020-02-21T00:00:00\", \"area_name\": \"London\", \"new_cases\": 0, \"total_cases\": 4}, {\"date\": \"2020-02-22T00:00:00\", \"area_name\": \"London\", \"new_cases\": 0, \"total_cases\": 4}, {\"date\": \"2020-02-23T00:00:00\", \"area_name\": \"London\", \"new_cases\": 2, \"total_cases\": 6}, {\"date\": \"2020-02-24T00:00:00\", \"area_name\": \"London\", \"new_cases\": 0, \"total_cases\": 6}, {\"date\": \"2020-02-25T00:00:00\", \"area_name\": \"London\", \"new_cases\": 2, \"total_cases\": 8}, {\"date\": \"2020-02-26T00:00:00\", \"area_name\": \"London\", \"new_cases\": 0, \"total_cases\": 8}, {\"date\": \"2020-02-27T00:00:00\", \"area_name\": \"London\", \"new_cases\": 1, \"total_cases\": 9}, {\"date\": \"2020-02-28T00:00:00\", \"area_name\": \"London\", \"new_cases\": 5, \"total_cases\": 14}, {\"date\": \"2020-02-29T00:00:00\", \"area_name\": \"London\", \"new_cases\": 1, \"total_cases\": 15}, {\"date\": \"2020-03-01T00:00:00\", \"area_name\": \"London\", \"new_cases\": 8, \"total_cases\": 23}, {\"date\": \"2020-03-02T00:00:00\", \"area_name\": \"London\", \"new_cases\": 12, \"total_cases\": 35}, {\"date\": \"2020-03-03T00:00:00\", \"area_name\": \"London\", \"new_cases\": 6, \"total_cases\": 41}, {\"date\": \"2020-03-04T00:00:00\", \"area_name\": \"London\", \"new_cases\": 18, \"total_cases\": 59}, {\"date\": \"2020-03-05T00:00:00\", \"area_name\": \"London\", \"new_cases\": 14, \"total_cases\": 73}, {\"date\": \"2020-03-06T00:00:00\", \"area_name\": \"London\", \"new_cases\": 23, \"total_cases\": 96}, {\"date\": \"2020-03-07T00:00:00\", \"area_name\": \"London\", \"new_cases\": 14, \"total_cases\": 110}, {\"date\": \"2020-03-08T00:00:00\", \"area_name\": \"London\", \"new_cases\": 22, \"total_cases\": 132}, {\"date\": \"2020-03-09T00:00:00\", \"area_name\": \"London\", \"new_cases\": 54, \"total_cases\": 186}, {\"date\": \"2020-03-10T00:00:00\", \"area_name\": \"London\", \"new_cases\": 91, \"total_cases\": 277}, {\"date\": \"2020-03-11T00:00:00\", \"area_name\": \"London\", \"new_cases\": 183, \"total_cases\": 460}, {\"date\": \"2020-03-12T00:00:00\", \"area_name\": \"London\", \"new_cases\": 165, \"total_cases\": 625}, {\"date\": \"2020-03-13T00:00:00\", \"area_name\": \"London\", \"new_cases\": 136, \"total_cases\": 761}, {\"date\": \"2020-03-14T00:00:00\", \"area_name\": \"London\", \"new_cases\": 148, \"total_cases\": 909}, {\"date\": \"2020-03-15T00:00:00\", \"area_name\": \"London\", \"new_cases\": 165, \"total_cases\": 1074}, {\"date\": \"2020-03-16T00:00:00\", \"area_name\": \"London\", \"new_cases\": 234, \"total_cases\": 1308}, {\"date\": \"2020-03-17T00:00:00\", \"area_name\": \"London\", \"new_cases\": 310, \"total_cases\": 1618}, {\"date\": \"2020-03-18T00:00:00\", \"area_name\": \"London\", \"new_cases\": 356, \"total_cases\": 1974}, {\"date\": \"2020-03-19T00:00:00\", \"area_name\": \"London\", \"new_cases\": 333, \"total_cases\": 2307}, {\"date\": \"2020-03-20T00:00:00\", \"area_name\": \"London\", \"new_cases\": 426, \"total_cases\": 2733}, {\"date\": \"2020-03-21T00:00:00\", \"area_name\": \"London\", \"new_cases\": 350, \"total_cases\": 3083}, {\"date\": \"2020-03-22T00:00:00\", \"area_name\": \"London\", \"new_cases\": 436, \"total_cases\": 3519}, {\"date\": \"2020-03-23T00:00:00\", \"area_name\": \"London\", \"new_cases\": 687, \"total_cases\": 4206}, {\"date\": \"2020-03-24T00:00:00\", \"area_name\": \"London\", \"new_cases\": 636, \"total_cases\": 4842}, {\"date\": \"2020-03-25T00:00:00\", \"area_name\": \"London\", \"new_cases\": 755, \"total_cases\": 5597}, {\"date\": \"2020-03-26T00:00:00\", \"area_name\": \"London\", \"new_cases\": 764, \"total_cases\": 6361}, {\"date\": \"2020-03-27T00:00:00\", \"area_name\": \"London\", \"new_cases\": 819, \"total_cases\": 7180}, {\"date\": \"2020-03-28T00:00:00\", \"area_name\": \"London\", \"new_cases\": 577, \"total_cases\": 7757}, {\"date\": \"2020-03-29T00:00:00\", \"area_name\": \"London\", \"new_cases\": 592, \"total_cases\": 8349}, {\"date\": \"2020-03-30T00:00:00\", \"area_name\": \"London\", \"new_cases\": 844, \"total_cases\": 9193}, {\"date\": \"2020-03-31T00:00:00\", \"area_name\": \"London\", \"new_cases\": 913, \"total_cases\": 10106}, {\"date\": \"2020-04-01T00:00:00\", \"area_name\": \"London\", \"new_cases\": 962, \"total_cases\": 11068}, {\"date\": \"2020-04-02T00:00:00\", \"area_name\": \"London\", \"new_cases\": 1022, \"total_cases\": 12090}, {\"date\": \"2020-04-03T00:00:00\", \"area_name\": \"London\", \"new_cases\": 936, \"total_cases\": 13026}, {\"date\": \"2020-04-04T00:00:00\", \"area_name\": \"London\", \"new_cases\": 717, \"total_cases\": 13743}, {\"date\": \"2020-04-05T00:00:00\", \"area_name\": \"London\", \"new_cases\": 603, \"total_cases\": 14346}, {\"date\": \"2020-04-06T00:00:00\", \"area_name\": \"London\", \"new_cases\": 834, \"total_cases\": 15180}, {\"date\": \"2020-04-07T00:00:00\", \"area_name\": \"London\", \"new_cases\": 905, \"total_cases\": 16085}, {\"date\": \"2020-04-08T00:00:00\", \"area_name\": \"London\", \"new_cases\": 831, \"total_cases\": 16916}, {\"date\": \"2020-04-09T00:00:00\", \"area_name\": \"London\", \"new_cases\": 768, \"total_cases\": 17684}, {\"date\": \"2020-04-10T00:00:00\", \"area_name\": \"London\", \"new_cases\": 573, \"total_cases\": 18257}, {\"date\": \"2020-04-11T00:00:00\", \"area_name\": \"London\", \"new_cases\": 493, \"total_cases\": 18750}, {\"date\": \"2020-04-12T00:00:00\", \"area_name\": \"London\", \"new_cases\": 413, \"total_cases\": 19163}, {\"date\": \"2020-04-13T00:00:00\", \"area_name\": \"London\", \"new_cases\": 566, \"total_cases\": 19729}, {\"date\": \"2020-04-14T00:00:00\", \"area_name\": \"London\", \"new_cases\": 555, \"total_cases\": 20284}, {\"date\": \"2020-04-15T00:00:00\", \"area_name\": \"London\", \"new_cases\": 554, \"total_cases\": 20838}, {\"date\": \"2020-04-16T00:00:00\", \"area_name\": \"London\", \"new_cases\": 489, \"total_cases\": 21327}, {\"date\": \"2020-04-17T00:00:00\", \"area_name\": \"London\", \"new_cases\": 425, \"total_cases\": 21752}, {\"date\": \"2020-04-18T00:00:00\", \"area_name\": \"London\", \"new_cases\": 306, \"total_cases\": 22058}, {\"date\": \"2020-04-19T00:00:00\", \"area_name\": \"London\", \"new_cases\": 246, \"total_cases\": 22304}, {\"date\": \"2020-04-20T00:00:00\", \"area_name\": \"London\", \"new_cases\": 375, \"total_cases\": 22679}, {\"date\": \"2020-04-21T00:00:00\", \"area_name\": \"London\", \"new_cases\": 340, \"total_cases\": 23019}, {\"date\": \"2020-04-22T00:00:00\", \"area_name\": \"London\", \"new_cases\": 275, \"total_cases\": 23294}, {\"date\": \"2020-04-23T00:00:00\", \"area_name\": \"London\", \"new_cases\": 315, \"total_cases\": 23609}, {\"date\": \"2020-04-24T00:00:00\", \"area_name\": \"London\", \"new_cases\": 247, \"total_cases\": 23856}, {\"date\": \"2020-04-25T00:00:00\", \"area_name\": \"London\", \"new_cases\": 160, \"total_cases\": 24016}, {\"date\": \"2020-04-26T00:00:00\", \"area_name\": \"London\", \"new_cases\": 91, \"total_cases\": 24107}, {\"date\": \"2020-04-27T00:00:00\", \"area_name\": \"London\", \"new_cases\": 190, \"total_cases\": 24297}, {\"date\": \"2020-04-28T00:00:00\", \"area_name\": \"London\", \"new_cases\": 180, \"total_cases\": 24477}, {\"date\": \"2020-04-29T00:00:00\", \"area_name\": \"London\", \"new_cases\": 250, \"total_cases\": 24727}, {\"date\": \"2020-04-30T00:00:00\", \"area_name\": \"London\", \"new_cases\": 255, \"total_cases\": 24982}, {\"date\": \"2020-05-01T00:00:00\", \"area_name\": \"London\", \"new_cases\": 196, \"total_cases\": 25178}, {\"date\": \"2020-05-02T00:00:00\", \"area_name\": \"London\", \"new_cases\": 127, \"total_cases\": 25305}, {\"date\": \"2020-05-03T00:00:00\", \"area_name\": \"London\", \"new_cases\": 64, \"total_cases\": 25369}, {\"date\": \"2020-05-04T00:00:00\", \"area_name\": \"London\", \"new_cases\": 149, \"total_cases\": 25518}, {\"date\": \"2020-05-05T00:00:00\", \"area_name\": \"London\", \"new_cases\": 134, \"total_cases\": 25652}, {\"date\": \"2020-05-06T00:00:00\", \"area_name\": \"London\", \"new_cases\": 143, \"total_cases\": 25795}, {\"date\": \"2020-05-07T00:00:00\", \"area_name\": \"London\", \"new_cases\": 144, \"total_cases\": 25939}, {\"date\": \"2020-05-08T00:00:00\", \"area_name\": \"London\", \"new_cases\": 94, \"total_cases\": 26033}, {\"date\": \"2020-05-09T00:00:00\", \"area_name\": \"London\", \"new_cases\": 62, \"total_cases\": 26095}, {\"date\": \"2020-05-10T00:00:00\", \"area_name\": \"London\", \"new_cases\": 38, \"total_cases\": 26133}, {\"date\": \"2020-05-11T00:00:00\", \"area_name\": \"London\", \"new_cases\": 75, \"total_cases\": 26208}, {\"date\": \"2020-05-12T00:00:00\", \"area_name\": \"London\", \"new_cases\": 80, \"total_cases\": 26288}, {\"date\": \"2020-05-13T00:00:00\", \"area_name\": \"London\", \"new_cases\": 87, \"total_cases\": 26375}, {\"date\": \"2020-05-14T00:00:00\", \"area_name\": \"London\", \"new_cases\": 87, \"total_cases\": 26462}, {\"date\": \"2020-05-15T00:00:00\", \"area_name\": \"London\", \"new_cases\": 60, \"total_cases\": 26522}, {\"date\": \"2020-05-16T00:00:00\", \"area_name\": \"London\", \"new_cases\": 24, \"total_cases\": 26546}, {\"date\": \"2020-05-17T00:00:00\", \"area_name\": \"London\", \"new_cases\": 33, \"total_cases\": 26579}, {\"date\": \"2020-05-18T00:00:00\", \"area_name\": \"London\", \"new_cases\": 54, \"total_cases\": 26633}, {\"date\": \"2020-05-19T00:00:00\", \"area_name\": \"London\", \"new_cases\": 48, \"total_cases\": 26681}, {\"date\": \"2020-05-20T00:00:00\", \"area_name\": \"London\", \"new_cases\": 58, \"total_cases\": 26739}, {\"date\": \"2020-05-21T00:00:00\", \"area_name\": \"London\", \"new_cases\": 49, \"total_cases\": 26788}, {\"date\": \"2020-05-22T00:00:00\", \"area_name\": \"London\", \"new_cases\": 40, \"total_cases\": 26828}, {\"date\": \"2020-05-23T00:00:00\", \"area_name\": \"London\", \"new_cases\": 10, \"total_cases\": 26838}, {\"date\": \"2020-05-24T00:00:00\", \"area_name\": \"London\", \"new_cases\": 17, \"total_cases\": 26855}, {\"date\": \"2020-05-25T00:00:00\", \"area_name\": \"London\", \"new_cases\": 15, \"total_cases\": 26870}, {\"date\": \"2020-05-26T00:00:00\", \"area_name\": \"London\", \"new_cases\": 28, \"total_cases\": 26898}, {\"date\": \"2020-05-27T00:00:00\", \"area_name\": \"London\", \"new_cases\": 14, \"total_cases\": 26912}, {\"date\": \"2020-05-28T00:00:00\", \"area_name\": \"London\", \"new_cases\": 1, \"total_cases\": 26913}]}}, {\"mode\": \"vega-lite\"});\n",
       "</script>"
      ],
      "text/plain": [
       "alt.VConcatChart(...)"
      ]
     },
     "execution_count": 5,
     "metadata": {},
     "output_type": "execute_result"
    }
   ],
   "source": [
    "brush = alt.selection(type=\"interval\", encodings=[\"x\"])\n",
    "\n",
    "highlight = alt.selection(type=\"single\", on=\"mouseover\", fields=[\"date\"], nearest=True)\n",
    "\n",
    "base = (\n",
    "    alt.Chart(df_london)\n",
    "    .mark_bar(color=\"#1e88e5\")\n",
    "    .encode(alt.X(\"date:T\"), alt.Y(\"new_cases:Q\"))\n",
    "    .properties(width=800, height=250)\n",
    ")\n",
    "\n",
    "upper = (\n",
    "    base.encode(\n",
    "        alt.X(\n",
    "            \"date:T\",\n",
    "            scale=alt.Scale(domain=brush),\n",
    "            axis=alt.Axis(labels=False, title=\" \"),\n",
    "        ),\n",
    "        alt.Y(\"new_cases:Q\", axis=alt.Axis(title=\"Daily number of cases\")),\n",
    "        color=alt.condition(~highlight, alt.value(\"#1e88e5\"), alt.value(\"#b1010f\")),\n",
    "        size=alt.condition(~highlight, alt.value(3), alt.value(6)),\n",
    "        tooltip=[\n",
    "            alt.Tooltip(\"area_name:N\", title=\"Area Name\"),\n",
    "            alt.Tooltip(\"date:T\", title=\"Date\"),\n",
    "            alt.Tooltip(\"new_cases:Q\", title=\"Daily new cases\"),\n",
    "            alt.Tooltip(\"total_cases:Q\", title=\"Total cases\"),\n",
    "        ],\n",
    "    )\n",
    "    .properties(title=\"COVID-19 impact in London Area\")\n",
    "    .add_selection(highlight)\n",
    ")\n",
    "\n",
    "lower = (\n",
    "    base.encode(\n",
    "        alt.X(\"date:T\", axis=alt.Axis(title=\" \")),\n",
    "        alt.Y(\"new_cases:Q\", axis=alt.Axis(title=\" \")),\n",
    "        color=alt.condition(brush, alt.value(\"#1e88e5\"), alt.value(\"lightgray\")),\n",
    "    )\n",
    "    .properties(height=60)\n",
    "    .add_selection(brush)\n",
    ")\n",
    "\n",
    "upper & lower"
   ]
  },
  {
   "cell_type": "markdown",
   "metadata": {},
   "source": [
    "## NYC Chart"
   ]
  },
  {
   "cell_type": "code",
   "execution_count": 6,
   "metadata": {},
   "outputs": [],
   "source": [
    "filename = \"COVID-19_Daily_Counts_of_Cases__Hospitalizations__and_Deaths.csv\"\n",
    "df_ny = pd.read_csv(DATA / filename)"
   ]
  },
  {
   "cell_type": "code",
   "execution_count": 7,
   "metadata": {},
   "outputs": [],
   "source": [
    "df_ny[\"DATE_OF_INTEREST\"] = pd.to_datetime(df_ny[\"DATE_OF_INTEREST\"])\n",
    "df_ny[\"Total_count\"] = np.cumsum(df_ny[\"CASE_COUNT\"])\n",
    "df_ny[\"area_name\"] = \"New York City\""
   ]
  },
  {
   "cell_type": "code",
   "execution_count": 8,
   "metadata": {},
   "outputs": [
    {
     "data": {
      "text/html": [
       "\n",
       "<div id=\"altair-viz-e2766a6c3e1e4660809549244f2aca21\"></div>\n",
       "<script type=\"text/javascript\">\n",
       "  (function(spec, embedOpt){\n",
       "    let outputDiv = document.currentScript.previousElementSibling;\n",
       "    if (outputDiv.id !== \"altair-viz-e2766a6c3e1e4660809549244f2aca21\") {\n",
       "      outputDiv = document.getElementById(\"altair-viz-e2766a6c3e1e4660809549244f2aca21\");\n",
       "    }\n",
       "    const paths = {\n",
       "      \"vega\": \"https://cdn.jsdelivr.net/npm//vega@5?noext\",\n",
       "      \"vega-lib\": \"https://cdn.jsdelivr.net/npm//vega-lib?noext\",\n",
       "      \"vega-lite\": \"https://cdn.jsdelivr.net/npm//vega-lite@4.8.1?noext\",\n",
       "      \"vega-embed\": \"https://cdn.jsdelivr.net/npm//vega-embed@6?noext\",\n",
       "    };\n",
       "\n",
       "    function loadScript(lib) {\n",
       "      return new Promise(function(resolve, reject) {\n",
       "        var s = document.createElement('script');\n",
       "        s.src = paths[lib];\n",
       "        s.async = true;\n",
       "        s.onload = () => resolve(paths[lib]);\n",
       "        s.onerror = () => reject(`Error loading script: ${paths[lib]}`);\n",
       "        document.getElementsByTagName(\"head\")[0].appendChild(s);\n",
       "      });\n",
       "    }\n",
       "\n",
       "    function showError(err) {\n",
       "      outputDiv.innerHTML = `<div class=\"error\" style=\"color:red;\">${err}</div>`;\n",
       "      throw err;\n",
       "    }\n",
       "\n",
       "    function displayChart(vegaEmbed) {\n",
       "      vegaEmbed(outputDiv, spec, embedOpt)\n",
       "        .catch(err => showError(`Javascript Error: ${err.message}<br>This usually means there's a typo in your chart specification. See the javascript console for the full traceback.`));\n",
       "    }\n",
       "\n",
       "    if(typeof define === \"function\" && define.amd) {\n",
       "      requirejs.config({paths});\n",
       "      require([\"vega-embed\"], displayChart, err => showError(`Error loading script: ${err.message}`));\n",
       "    } else if (typeof vegaEmbed === \"function\") {\n",
       "      displayChart(vegaEmbed);\n",
       "    } else {\n",
       "      loadScript(\"vega\")\n",
       "        .then(() => loadScript(\"vega-lite\"))\n",
       "        .then(() => loadScript(\"vega-embed\"))\n",
       "        .catch(showError)\n",
       "        .then(() => displayChart(vegaEmbed));\n",
       "    }\n",
       "  })({\"config\": {\"view\": {\"continuousWidth\": 400, \"continuousHeight\": 300}}, \"vconcat\": [{\"mark\": {\"type\": \"bar\", \"color\": \"#1e88e5\"}, \"encoding\": {\"color\": {\"condition\": {\"value\": \"#1e88e5\", \"selection\": {\"not\": \"selector004\"}}, \"value\": \"#b1010f\"}, \"size\": {\"condition\": {\"value\": 3, \"selection\": {\"not\": \"selector004\"}}, \"value\": 6}, \"tooltip\": [{\"type\": \"nominal\", \"field\": \"area_name\", \"title\": \"Area Name\"}, {\"type\": \"temporal\", \"field\": \"DATE_OF_INTEREST\", \"title\": \"Date\"}, {\"type\": \"quantitative\", \"field\": \"CASE_COUNT\", \"title\": \"Daily new cases\"}, {\"type\": \"quantitative\", \"field\": \"Total_count\", \"title\": \"Total cases\"}], \"x\": {\"type\": \"temporal\", \"axis\": {\"labels\": false, \"title\": \" \"}, \"field\": \"DATE_OF_INTEREST\", \"scale\": {\"domain\": {\"selection\": \"selector003\"}}}, \"y\": {\"type\": \"quantitative\", \"axis\": {\"title\": \"Daily number of cases\"}, \"field\": \"CASE_COUNT\"}}, \"height\": 250, \"selection\": {\"selector004\": {\"type\": \"single\", \"on\": \"mouseover\", \"fields\": [\"DATE_OF_INTEREST\"], \"nearest\": true}}, \"title\": \"COVID-19 impact in New York City Area\", \"width\": 800}, {\"mark\": {\"type\": \"bar\", \"color\": \"#1e88e5\"}, \"encoding\": {\"color\": {\"condition\": {\"value\": \"#1e88e5\", \"selection\": \"selector003\"}, \"value\": \"lightgray\"}, \"x\": {\"type\": \"temporal\", \"axis\": {\"title\": \" \"}, \"field\": \"DATE_OF_INTEREST\"}, \"y\": {\"type\": \"quantitative\", \"axis\": {\"title\": \" \"}, \"field\": \"CASE_COUNT\"}}, \"height\": 60, \"selection\": {\"selector003\": {\"type\": \"interval\", \"encodings\": [\"x\"]}}, \"width\": 800}], \"data\": {\"name\": \"data-22fac4ef31a4ee887f138225bccd9799\"}, \"$schema\": \"https://vega.github.io/schema/vega-lite/v4.8.1.json\", \"datasets\": {\"data-22fac4ef31a4ee887f138225bccd9799\": [{\"DATE_OF_INTEREST\": \"2020-02-29T00:00:00\", \"CASE_COUNT\": 1, \"HOSPITALIZED_COUNT\": 14, \"DEATH_COUNT\": 0, \"Total_count\": 1, \"area_name\": \"New York City\"}, {\"DATE_OF_INTEREST\": \"2020-03-01T00:00:00\", \"CASE_COUNT\": 1, \"HOSPITALIZED_COUNT\": 4, \"DEATH_COUNT\": 0, \"Total_count\": 2, \"area_name\": \"New York City\"}, {\"DATE_OF_INTEREST\": \"2020-03-02T00:00:00\", \"CASE_COUNT\": 0, \"HOSPITALIZED_COUNT\": 23, \"DEATH_COUNT\": 0, \"Total_count\": 2, \"area_name\": \"New York City\"}, {\"DATE_OF_INTEREST\": \"2020-03-03T00:00:00\", \"CASE_COUNT\": 2, \"HOSPITALIZED_COUNT\": 22, \"DEATH_COUNT\": 0, \"Total_count\": 4, \"area_name\": \"New York City\"}, {\"DATE_OF_INTEREST\": \"2020-03-04T00:00:00\", \"CASE_COUNT\": 5, \"HOSPITALIZED_COUNT\": 22, \"DEATH_COUNT\": 0, \"Total_count\": 9, \"area_name\": \"New York City\"}, {\"DATE_OF_INTEREST\": \"2020-03-05T00:00:00\", \"CASE_COUNT\": 3, \"HOSPITALIZED_COUNT\": 21, \"DEATH_COUNT\": 0, \"Total_count\": 12, \"area_name\": \"New York City\"}, {\"DATE_OF_INTEREST\": \"2020-03-06T00:00:00\", \"CASE_COUNT\": 8, \"HOSPITALIZED_COUNT\": 23, \"DEATH_COUNT\": 0, \"Total_count\": 20, \"area_name\": \"New York City\"}, {\"DATE_OF_INTEREST\": \"2020-03-07T00:00:00\", \"CASE_COUNT\": 7, \"HOSPITALIZED_COUNT\": 16, \"DEATH_COUNT\": 0, \"Total_count\": 27, \"area_name\": \"New York City\"}, {\"DATE_OF_INTEREST\": \"2020-03-08T00:00:00\", \"CASE_COUNT\": 21, \"HOSPITALIZED_COUNT\": 17, \"DEATH_COUNT\": 0, \"Total_count\": 48, \"area_name\": \"New York City\"}, {\"DATE_OF_INTEREST\": \"2020-03-09T00:00:00\", \"CASE_COUNT\": 58, \"HOSPITALIZED_COUNT\": 52, \"DEATH_COUNT\": 0, \"Total_count\": 106, \"area_name\": \"New York City\"}, {\"DATE_OF_INTEREST\": \"2020-03-10T00:00:00\", \"CASE_COUNT\": 70, \"HOSPITALIZED_COUNT\": 65, \"DEATH_COUNT\": 0, \"Total_count\": 176, \"area_name\": \"New York City\"}, {\"DATE_OF_INTEREST\": \"2020-03-11T00:00:00\", \"CASE_COUNT\": 155, \"HOSPITALIZED_COUNT\": 87, \"DEATH_COUNT\": 1, \"Total_count\": 331, \"area_name\": \"New York City\"}, {\"DATE_OF_INTEREST\": \"2020-03-12T00:00:00\", \"CASE_COUNT\": 357, \"HOSPITALIZED_COUNT\": 90, \"DEATH_COUNT\": 0, \"Total_count\": 688, \"area_name\": \"New York City\"}, {\"DATE_OF_INTEREST\": \"2020-03-13T00:00:00\", \"CASE_COUNT\": 620, \"HOSPITALIZED_COUNT\": 148, \"DEATH_COUNT\": 0, \"Total_count\": 1308, \"area_name\": \"New York City\"}, {\"DATE_OF_INTEREST\": \"2020-03-14T00:00:00\", \"CASE_COUNT\": 642, \"HOSPITALIZED_COUNT\": 158, \"DEATH_COUNT\": 2, \"Total_count\": 1950, \"area_name\": \"New York City\"}, {\"DATE_OF_INTEREST\": \"2020-03-15T00:00:00\", \"CASE_COUNT\": 1033, \"HOSPITALIZED_COUNT\": 192, \"DEATH_COUNT\": 5, \"Total_count\": 2983, \"area_name\": \"New York City\"}, {\"DATE_OF_INTEREST\": \"2020-03-16T00:00:00\", \"CASE_COUNT\": 2122, \"HOSPITALIZED_COUNT\": 309, \"DEATH_COUNT\": 9, \"Total_count\": 5105, \"area_name\": \"New York City\"}, {\"DATE_OF_INTEREST\": \"2020-03-17T00:00:00\", \"CASE_COUNT\": 2457, \"HOSPITALIZED_COUNT\": 353, \"DEATH_COUNT\": 8, \"Total_count\": 7562, \"area_name\": \"New York City\"}, {\"DATE_OF_INTEREST\": \"2020-03-18T00:00:00\", \"CASE_COUNT\": 2980, \"HOSPITALIZED_COUNT\": 464, \"DEATH_COUNT\": 20, \"Total_count\": 10542, \"area_name\": \"New York City\"}, {\"DATE_OF_INTEREST\": \"2020-03-19T00:00:00\", \"CASE_COUNT\": 3712, \"HOSPITALIZED_COUNT\": 551, \"DEATH_COUNT\": 24, \"Total_count\": 14254, \"area_name\": \"New York City\"}, {\"DATE_OF_INTEREST\": \"2020-03-20T00:00:00\", \"CASE_COUNT\": 4013, \"HOSPITALIZED_COUNT\": 662, \"DEATH_COUNT\": 46, \"Total_count\": 18267, \"area_name\": \"New York City\"}, {\"DATE_OF_INTEREST\": \"2020-03-21T00:00:00\", \"CASE_COUNT\": 2639, \"HOSPITALIZED_COUNT\": 687, \"DEATH_COUNT\": 45, \"Total_count\": 20906, \"area_name\": \"New York City\"}, {\"DATE_OF_INTEREST\": \"2020-03-22T00:00:00\", \"CASE_COUNT\": 2580, \"HOSPITALIZED_COUNT\": 724, \"DEATH_COUNT\": 50, \"Total_count\": 23486, \"area_name\": \"New York City\"}, {\"DATE_OF_INTEREST\": \"2020-03-23T00:00:00\", \"CASE_COUNT\": 3567, \"HOSPITALIZED_COUNT\": 1033, \"DEATH_COUNT\": 82, \"Total_count\": 27053, \"area_name\": \"New York City\"}, {\"DATE_OF_INTEREST\": \"2020-03-24T00:00:00\", \"CASE_COUNT\": 4497, \"HOSPITALIZED_COUNT\": 1142, \"DEATH_COUNT\": 94, \"Total_count\": 31550, \"area_name\": \"New York City\"}, {\"DATE_OF_INTEREST\": \"2020-03-25T00:00:00\", \"CASE_COUNT\": 4840, \"HOSPITALIZED_COUNT\": 1297, \"DEATH_COUNT\": 120, \"Total_count\": 36390, \"area_name\": \"New York City\"}, {\"DATE_OF_INTEREST\": \"2020-03-26T00:00:00\", \"CASE_COUNT\": 5025, \"HOSPITALIZED_COUNT\": 1423, \"DEATH_COUNT\": 186, \"Total_count\": 41415, \"area_name\": \"New York City\"}, {\"DATE_OF_INTEREST\": \"2020-03-27T00:00:00\", \"CASE_COUNT\": 5097, \"HOSPITALIZED_COUNT\": 1380, \"DEATH_COUNT\": 212, \"Total_count\": 46512, \"area_name\": \"New York City\"}, {\"DATE_OF_INTEREST\": \"2020-03-28T00:00:00\", \"CASE_COUNT\": 3458, \"HOSPITALIZED_COUNT\": 1337, \"DEATH_COUNT\": 265, \"Total_count\": 49970, \"area_name\": \"New York City\"}, {\"DATE_OF_INTEREST\": \"2020-03-29T00:00:00\", \"CASE_COUNT\": 3526, \"HOSPITALIZED_COUNT\": 1384, \"DEATH_COUNT\": 286, \"Total_count\": 53496, \"area_name\": \"New York City\"}, {\"DATE_OF_INTEREST\": \"2020-03-30T00:00:00\", \"CASE_COUNT\": 6114, \"HOSPITALIZED_COUNT\": 1691, \"DEATH_COUNT\": 321, \"Total_count\": 59610, \"area_name\": \"New York City\"}, {\"DATE_OF_INTEREST\": \"2020-03-31T00:00:00\", \"CASE_COUNT\": 5433, \"HOSPITALIZED_COUNT\": 1628, \"DEATH_COUNT\": 372, \"Total_count\": 65043, \"area_name\": \"New York City\"}, {\"DATE_OF_INTEREST\": \"2020-04-01T00:00:00\", \"CASE_COUNT\": 5436, \"HOSPITALIZED_COUNT\": 1545, \"DEATH_COUNT\": 431, \"Total_count\": 70479, \"area_name\": \"New York City\"}, {\"DATE_OF_INTEREST\": \"2020-04-02T00:00:00\", \"CASE_COUNT\": 5753, \"HOSPITALIZED_COUNT\": 1592, \"DEATH_COUNT\": 486, \"Total_count\": 76232, \"area_name\": \"New York City\"}, {\"DATE_OF_INTEREST\": \"2020-04-03T00:00:00\", \"CASE_COUNT\": 5659, \"HOSPITALIZED_COUNT\": 1600, \"DEATH_COUNT\": 482, \"Total_count\": 81891, \"area_name\": \"New York City\"}, {\"DATE_OF_INTEREST\": \"2020-04-04T00:00:00\", \"CASE_COUNT\": 3856, \"HOSPITALIZED_COUNT\": 1330, \"DEATH_COUNT\": 488, \"Total_count\": 85747, \"area_name\": \"New York City\"}, {\"DATE_OF_INTEREST\": \"2020-04-05T00:00:00\", \"CASE_COUNT\": 3776, \"HOSPITALIZED_COUNT\": 1322, \"DEATH_COUNT\": 565, \"Total_count\": 89523, \"area_name\": \"New York City\"}, {\"DATE_OF_INTEREST\": \"2020-04-06T00:00:00\", \"CASE_COUNT\": 6368, \"HOSPITALIZED_COUNT\": 1694, \"DEATH_COUNT\": 564, \"Total_count\": 95891, \"area_name\": \"New York City\"}, {\"DATE_OF_INTEREST\": \"2020-04-07T00:00:00\", \"CASE_COUNT\": 6053, \"HOSPITALIZED_COUNT\": 1567, \"DEATH_COUNT\": 590, \"Total_count\": 101944, \"area_name\": \"New York City\"}, {\"DATE_OF_INTEREST\": \"2020-04-08T00:00:00\", \"CASE_COUNT\": 5563, \"HOSPITALIZED_COUNT\": 1521, \"DEATH_COUNT\": 544, \"Total_count\": 107507, \"area_name\": \"New York City\"}, {\"DATE_OF_INTEREST\": \"2020-04-09T00:00:00\", \"CASE_COUNT\": 5039, \"HOSPITALIZED_COUNT\": 1402, \"DEATH_COUNT\": 534, \"Total_count\": 112546, \"area_name\": \"New York City\"}, {\"DATE_OF_INTEREST\": \"2020-04-10T00:00:00\", \"CASE_COUNT\": 4498, \"HOSPITALIZED_COUNT\": 1317, \"DEATH_COUNT\": 517, \"Total_count\": 117044, \"area_name\": \"New York City\"}, {\"DATE_OF_INTEREST\": \"2020-04-11T00:00:00\", \"CASE_COUNT\": 3710, \"HOSPITALIZED_COUNT\": 1079, \"DEATH_COUNT\": 523, \"Total_count\": 120754, \"area_name\": \"New York City\"}, {\"DATE_OF_INTEREST\": \"2020-04-12T00:00:00\", \"CASE_COUNT\": 2870, \"HOSPITALIZED_COUNT\": 979, \"DEATH_COUNT\": 555, \"Total_count\": 123624, \"area_name\": \"New York City\"}, {\"DATE_OF_INTEREST\": \"2020-04-13T00:00:00\", \"CASE_COUNT\": 3300, \"HOSPITALIZED_COUNT\": 1205, \"DEATH_COUNT\": 550, \"Total_count\": 126924, \"area_name\": \"New York City\"}, {\"DATE_OF_INTEREST\": \"2020-04-14T00:00:00\", \"CASE_COUNT\": 4131, \"HOSPITALIZED_COUNT\": 1065, \"DEATH_COUNT\": 503, \"Total_count\": 131055, \"area_name\": \"New York City\"}, {\"DATE_OF_INTEREST\": \"2020-04-15T00:00:00\", \"CASE_COUNT\": 3866, \"HOSPITALIZED_COUNT\": 971, \"DEATH_COUNT\": 436, \"Total_count\": 134921, \"area_name\": \"New York City\"}, {\"DATE_OF_INTEREST\": \"2020-04-16T00:00:00\", \"CASE_COUNT\": 3517, \"HOSPITALIZED_COUNT\": 857, \"DEATH_COUNT\": 399, \"Total_count\": 138438, \"area_name\": \"New York City\"}, {\"DATE_OF_INTEREST\": \"2020-04-17T00:00:00\", \"CASE_COUNT\": 3574, \"HOSPITALIZED_COUNT\": 895, \"DEATH_COUNT\": 366, \"Total_count\": 142012, \"area_name\": \"New York City\"}, {\"DATE_OF_INTEREST\": \"2020-04-18T00:00:00\", \"CASE_COUNT\": 2164, \"HOSPITALIZED_COUNT\": 648, \"DEATH_COUNT\": 360, \"Total_count\": 144176, \"area_name\": \"New York City\"}, {\"DATE_OF_INTEREST\": \"2020-04-19T00:00:00\", \"CASE_COUNT\": 2349, \"HOSPITALIZED_COUNT\": 592, \"DEATH_COUNT\": 373, \"Total_count\": 146525, \"area_name\": \"New York City\"}, {\"DATE_OF_INTEREST\": \"2020-04-20T00:00:00\", \"CASE_COUNT\": 3776, \"HOSPITALIZED_COUNT\": 717, \"DEATH_COUNT\": 348, \"Total_count\": 150301, \"area_name\": \"New York City\"}, {\"DATE_OF_INTEREST\": \"2020-04-21T00:00:00\", \"CASE_COUNT\": 3055, \"HOSPITALIZED_COUNT\": 648, \"DEATH_COUNT\": 306, \"Total_count\": 153356, \"area_name\": \"New York City\"}, {\"DATE_OF_INTEREST\": \"2020-04-22T00:00:00\", \"CASE_COUNT\": 3458, \"HOSPITALIZED_COUNT\": 597, \"DEATH_COUNT\": 298, \"Total_count\": 156814, \"area_name\": \"New York City\"}, {\"DATE_OF_INTEREST\": \"2020-04-23T00:00:00\", \"CASE_COUNT\": 2844, \"HOSPITALIZED_COUNT\": 517, \"DEATH_COUNT\": 307, \"Total_count\": 159658, \"area_name\": \"New York City\"}, {\"DATE_OF_INTEREST\": \"2020-04-24T00:00:00\", \"CASE_COUNT\": 2537, \"HOSPITALIZED_COUNT\": 555, \"DEATH_COUNT\": 297, \"Total_count\": 162195, \"area_name\": \"New York City\"}, {\"DATE_OF_INTEREST\": \"2020-04-25T00:00:00\", \"CASE_COUNT\": 1593, \"HOSPITALIZED_COUNT\": 405, \"DEATH_COUNT\": 239, \"Total_count\": 163788, \"area_name\": \"New York City\"}, {\"DATE_OF_INTEREST\": \"2020-04-26T00:00:00\", \"CASE_COUNT\": 1006, \"HOSPITALIZED_COUNT\": 376, \"DEATH_COUNT\": 231, \"Total_count\": 164794, \"area_name\": \"New York City\"}, {\"DATE_OF_INTEREST\": \"2020-04-27T00:00:00\", \"CASE_COUNT\": 2307, \"HOSPITALIZED_COUNT\": 443, \"DEATH_COUNT\": 255, \"Total_count\": 167101, \"area_name\": \"New York City\"}, {\"DATE_OF_INTEREST\": \"2020-04-28T00:00:00\", \"CASE_COUNT\": 2723, \"HOSPITALIZED_COUNT\": 441, \"DEATH_COUNT\": 217, \"Total_count\": 169824, \"area_name\": \"New York City\"}, {\"DATE_OF_INTEREST\": \"2020-04-29T00:00:00\", \"CASE_COUNT\": 2341, \"HOSPITALIZED_COUNT\": 405, \"DEATH_COUNT\": 228, \"Total_count\": 172165, \"area_name\": \"New York City\"}, {\"DATE_OF_INTEREST\": \"2020-04-30T00:00:00\", \"CASE_COUNT\": 2016, \"HOSPITALIZED_COUNT\": 334, \"DEATH_COUNT\": 206, \"Total_count\": 174181, \"area_name\": \"New York City\"}, {\"DATE_OF_INTEREST\": \"2020-05-01T00:00:00\", \"CASE_COUNT\": 1881, \"HOSPITALIZED_COUNT\": 343, \"DEATH_COUNT\": 201, \"Total_count\": 176062, \"area_name\": \"New York City\"}, {\"DATE_OF_INTEREST\": \"2020-05-02T00:00:00\", \"CASE_COUNT\": 1057, \"HOSPITALIZED_COUNT\": 270, \"DEATH_COUNT\": 186, \"Total_count\": 177119, \"area_name\": \"New York City\"}, {\"DATE_OF_INTEREST\": \"2020-05-03T00:00:00\", \"CASE_COUNT\": 782, \"HOSPITALIZED_COUNT\": 253, \"DEATH_COUNT\": 166, \"Total_count\": 177901, \"area_name\": \"New York City\"}, {\"DATE_OF_INTEREST\": \"2020-05-04T00:00:00\", \"CASE_COUNT\": 1548, \"HOSPITALIZED_COUNT\": 289, \"DEATH_COUNT\": 148, \"Total_count\": 179449, \"area_name\": \"New York City\"}, {\"DATE_OF_INTEREST\": \"2020-05-05T00:00:00\", \"CASE_COUNT\": 1508, \"HOSPITALIZED_COUNT\": 264, \"DEATH_COUNT\": 140, \"Total_count\": 180957, \"area_name\": \"New York City\"}, {\"DATE_OF_INTEREST\": \"2020-05-06T00:00:00\", \"CASE_COUNT\": 1402, \"HOSPITALIZED_COUNT\": 255, \"DEATH_COUNT\": 136, \"Total_count\": 182359, \"area_name\": \"New York City\"}, {\"DATE_OF_INTEREST\": \"2020-05-07T00:00:00\", \"CASE_COUNT\": 1238, \"HOSPITALIZED_COUNT\": 234, \"DEATH_COUNT\": 129, \"Total_count\": 183597, \"area_name\": \"New York City\"}, {\"DATE_OF_INTEREST\": \"2020-05-08T00:00:00\", \"CASE_COUNT\": 1086, \"HOSPITALIZED_COUNT\": 248, \"DEATH_COUNT\": 120, \"Total_count\": 184683, \"area_name\": \"New York City\"}, {\"DATE_OF_INTEREST\": \"2020-05-09T00:00:00\", \"CASE_COUNT\": 671, \"HOSPITALIZED_COUNT\": 164, \"DEATH_COUNT\": 99, \"Total_count\": 185354, \"area_name\": \"New York City\"}, {\"DATE_OF_INTEREST\": \"2020-05-10T00:00:00\", \"CASE_COUNT\": 460, \"HOSPITALIZED_COUNT\": 140, \"DEATH_COUNT\": 90, \"Total_count\": 185814, \"area_name\": \"New York City\"}, {\"DATE_OF_INTEREST\": \"2020-05-11T00:00:00\", \"CASE_COUNT\": 1232, \"HOSPITALIZED_COUNT\": 241, \"DEATH_COUNT\": 97, \"Total_count\": 187046, \"area_name\": \"New York City\"}, {\"DATE_OF_INTEREST\": \"2020-05-12T00:00:00\", \"CASE_COUNT\": 1286, \"HOSPITALIZED_COUNT\": 202, \"DEATH_COUNT\": 85, \"Total_count\": 188332, \"area_name\": \"New York City\"}, {\"DATE_OF_INTEREST\": \"2020-05-13T00:00:00\", \"CASE_COUNT\": 1332, \"HOSPITALIZED_COUNT\": 202, \"DEATH_COUNT\": 72, \"Total_count\": 189664, \"area_name\": \"New York City\"}, {\"DATE_OF_INTEREST\": \"2020-05-14T00:00:00\", \"CASE_COUNT\": 1109, \"HOSPITALIZED_COUNT\": 183, \"DEATH_COUNT\": 63, \"Total_count\": 190773, \"area_name\": \"New York City\"}, {\"DATE_OF_INTEREST\": \"2020-05-15T00:00:00\", \"CASE_COUNT\": 869, \"HOSPITALIZED_COUNT\": 201, \"DEATH_COUNT\": 83, \"Total_count\": 191642, \"area_name\": \"New York City\"}, {\"DATE_OF_INTEREST\": \"2020-05-16T00:00:00\", \"CASE_COUNT\": 489, \"HOSPITALIZED_COUNT\": 140, \"DEATH_COUNT\": 72, \"Total_count\": 192131, \"area_name\": \"New York City\"}, {\"DATE_OF_INTEREST\": \"2020-05-17T00:00:00\", \"CASE_COUNT\": 363, \"HOSPITALIZED_COUNT\": 114, \"DEATH_COUNT\": 67, \"Total_count\": 192494, \"area_name\": \"New York City\"}, {\"DATE_OF_INTEREST\": \"2020-05-18T00:00:00\", \"CASE_COUNT\": 904, \"HOSPITALIZED_COUNT\": 142, \"DEATH_COUNT\": 46, \"Total_count\": 193398, \"area_name\": \"New York City\"}, {\"DATE_OF_INTEREST\": \"2020-05-19T00:00:00\", \"CASE_COUNT\": 995, \"HOSPITALIZED_COUNT\": 175, \"DEATH_COUNT\": 50, \"Total_count\": 194393, \"area_name\": \"New York City\"}, {\"DATE_OF_INTEREST\": \"2020-05-20T00:00:00\", \"CASE_COUNT\": 1029, \"HOSPITALIZED_COUNT\": 91, \"DEATH_COUNT\": 72, \"Total_count\": 195422, \"area_name\": \"New York City\"}, {\"DATE_OF_INTEREST\": \"2020-05-21T00:00:00\", \"CASE_COUNT\": 1022, \"HOSPITALIZED_COUNT\": 82, \"DEATH_COUNT\": 38, \"Total_count\": 196444, \"area_name\": \"New York City\"}, {\"DATE_OF_INTEREST\": \"2020-05-22T00:00:00\", \"CASE_COUNT\": 986, \"HOSPITALIZED_COUNT\": 110, \"DEATH_COUNT\": 50, \"Total_count\": 197430, \"area_name\": \"New York City\"}, {\"DATE_OF_INTEREST\": \"2020-05-23T00:00:00\", \"CASE_COUNT\": 444, \"HOSPITALIZED_COUNT\": 61, \"DEATH_COUNT\": 47, \"Total_count\": 197874, \"area_name\": \"New York City\"}, {\"DATE_OF_INTEREST\": \"2020-05-24T00:00:00\", \"CASE_COUNT\": 459, \"HOSPITALIZED_COUNT\": 75, \"DEATH_COUNT\": 36, \"Total_count\": 198333, \"area_name\": \"New York City\"}, {\"DATE_OF_INTEREST\": \"2020-05-25T00:00:00\", \"CASE_COUNT\": 438, \"HOSPITALIZED_COUNT\": 63, \"DEATH_COUNT\": 27, \"Total_count\": 198771, \"area_name\": \"New York City\"}, {\"DATE_OF_INTEREST\": \"2020-05-26T00:00:00\", \"CASE_COUNT\": 684, \"HOSPITALIZED_COUNT\": 81, \"DEATH_COUNT\": 23, \"Total_count\": 199455, \"area_name\": \"New York City\"}, {\"DATE_OF_INTEREST\": \"2020-05-27T00:00:00\", \"CASE_COUNT\": 324, \"HOSPITALIZED_COUNT\": 40, \"DEATH_COUNT\": 12, \"Total_count\": 199779, \"area_name\": \"New York City\"}, {\"DATE_OF_INTEREST\": \"2020-05-28T00:00:00\", \"CASE_COUNT\": 108, \"HOSPITALIZED_COUNT\": 5, \"DEATH_COUNT\": 8, \"Total_count\": 199887, \"area_name\": \"New York City\"}, {\"DATE_OF_INTEREST\": \"2020-05-29T00:00:00\", \"CASE_COUNT\": 6, \"HOSPITALIZED_COUNT\": 0, \"DEATH_COUNT\": 0, \"Total_count\": 199893, \"area_name\": \"New York City\"}]}}, {\"mode\": \"vega-lite\"});\n",
       "</script>"
      ],
      "text/plain": [
       "alt.VConcatChart(...)"
      ]
     },
     "execution_count": 8,
     "metadata": {},
     "output_type": "execute_result"
    }
   ],
   "source": [
    "brush = alt.selection(type=\"interval\", encodings=[\"x\"])\n",
    "\n",
    "highlight = alt.selection(\n",
    "    type=\"single\", on=\"mouseover\", fields=[\"DATE_OF_INTEREST\"], nearest=True\n",
    ")\n",
    "\n",
    "base = (\n",
    "    alt.Chart(df_ny)\n",
    "    .mark_bar(color=\"#1e88e5\")\n",
    "    .encode(alt.X(\"DATE_OF_INTEREST:T\"), alt.Y(\"CASE_COUNT:Q\"))\n",
    "    .properties(width=800, height=250)\n",
    ")\n",
    "\n",
    "upper = (\n",
    "    base.encode(\n",
    "        alt.X(\n",
    "            \"DATE_OF_INTEREST:T\",\n",
    "            scale=alt.Scale(domain=brush),\n",
    "            axis=alt.Axis(labels=False, title=\" \"),\n",
    "        ),\n",
    "        alt.Y(\"CASE_COUNT:Q\", axis=alt.Axis(title=\"Daily number of cases\")),\n",
    "        color=alt.condition(~highlight, alt.value(\"#1e88e5\"), alt.value(\"#b1010f\")),\n",
    "        size=alt.condition(~highlight, alt.value(3), alt.value(6)),\n",
    "        tooltip=[\n",
    "            alt.Tooltip(\"area_name:N\", title=\"Area Name\"),\n",
    "            alt.Tooltip(\"DATE_OF_INTEREST:T\", title=\"Date\"),\n",
    "            alt.Tooltip(\"CASE_COUNT:Q\", title=\"Daily new cases\"),\n",
    "            alt.Tooltip(\"Total_count:Q\", title=\"Total cases\"),\n",
    "        ],\n",
    "    )\n",
    "    .properties(title=\"COVID-19 impact in New York City Area\")\n",
    "    .add_selection(highlight)\n",
    ")\n",
    "\n",
    "lower = (\n",
    "    base.encode(\n",
    "        alt.X(\"DATE_OF_INTEREST:T\", axis=alt.Axis(title=\" \")),\n",
    "        alt.Y(\"CASE_COUNT:Q\", axis=alt.Axis(title=\" \")),\n",
    "        color=alt.condition(brush, alt.value(\"#1e88e5\"), alt.value(\"lightgray\")),\n",
    "    )\n",
    "    .properties(height=60)\n",
    "    .add_selection(brush)\n",
    ")\n",
    "\n",
    "upper & lower"
   ]
  },
  {
   "cell_type": "markdown",
   "metadata": {},
   "source": [
    "## Hubei plot"
   ]
  },
  {
   "cell_type": "code",
   "execution_count": 9,
   "metadata": {},
   "outputs": [],
   "source": [
    "r_china = requests.get(\"https://api.covid19api.com/dayone/country/china\")"
   ]
  },
  {
   "cell_type": "code",
   "execution_count": 10,
   "metadata": {},
   "outputs": [],
   "source": [
    "df_wuhan = pd.DataFrame(r_china.json())\n",
    "df_wuhan = df_wuhan.loc[df_wuhan[\"Province\"] == \"Hubei\"]\n",
    "df_wuhan[\"daily_Confirmed\"] = df_wuhan[\"Confirmed\"].diff()\n",
    "df_wuhan = df_wuhan.fillna(0)\n",
    "df_wuhan[\"Date\"] = pd.to_datetime(df_wuhan[\"Date\"])\n",
    "df_wuhan[\"Date\"] = df_wuhan[\"Date\"].dt.tz_convert(None)"
   ]
  },
  {
   "cell_type": "code",
   "execution_count": 11,
   "metadata": {},
   "outputs": [
    {
     "data": {
      "text/html": [
       "\n",
       "<div id=\"altair-viz-068e7d88693f4b979e22c231787decdc\"></div>\n",
       "<script type=\"text/javascript\">\n",
       "  (function(spec, embedOpt){\n",
       "    let outputDiv = document.currentScript.previousElementSibling;\n",
       "    if (outputDiv.id !== \"altair-viz-068e7d88693f4b979e22c231787decdc\") {\n",
       "      outputDiv = document.getElementById(\"altair-viz-068e7d88693f4b979e22c231787decdc\");\n",
       "    }\n",
       "    const paths = {\n",
       "      \"vega\": \"https://cdn.jsdelivr.net/npm//vega@5?noext\",\n",
       "      \"vega-lib\": \"https://cdn.jsdelivr.net/npm//vega-lib?noext\",\n",
       "      \"vega-lite\": \"https://cdn.jsdelivr.net/npm//vega-lite@4.8.1?noext\",\n",
       "      \"vega-embed\": \"https://cdn.jsdelivr.net/npm//vega-embed@6?noext\",\n",
       "    };\n",
       "\n",
       "    function loadScript(lib) {\n",
       "      return new Promise(function(resolve, reject) {\n",
       "        var s = document.createElement('script');\n",
       "        s.src = paths[lib];\n",
       "        s.async = true;\n",
       "        s.onload = () => resolve(paths[lib]);\n",
       "        s.onerror = () => reject(`Error loading script: ${paths[lib]}`);\n",
       "        document.getElementsByTagName(\"head\")[0].appendChild(s);\n",
       "      });\n",
       "    }\n",
       "\n",
       "    function showError(err) {\n",
       "      outputDiv.innerHTML = `<div class=\"error\" style=\"color:red;\">${err}</div>`;\n",
       "      throw err;\n",
       "    }\n",
       "\n",
       "    function displayChart(vegaEmbed) {\n",
       "      vegaEmbed(outputDiv, spec, embedOpt)\n",
       "        .catch(err => showError(`Javascript Error: ${err.message}<br>This usually means there's a typo in your chart specification. See the javascript console for the full traceback.`));\n",
       "    }\n",
       "\n",
       "    if(typeof define === \"function\" && define.amd) {\n",
       "      requirejs.config({paths});\n",
       "      require([\"vega-embed\"], displayChart, err => showError(`Error loading script: ${err.message}`));\n",
       "    } else if (typeof vegaEmbed === \"function\") {\n",
       "      displayChart(vegaEmbed);\n",
       "    } else {\n",
       "      loadScript(\"vega\")\n",
       "        .then(() => loadScript(\"vega-lite\"))\n",
       "        .then(() => loadScript(\"vega-embed\"))\n",
       "        .catch(showError)\n",
       "        .then(() => displayChart(vegaEmbed));\n",
       "    }\n",
       "  })({\"config\": {\"view\": {\"continuousWidth\": 400, \"continuousHeight\": 300}}, \"vconcat\": [{\"mark\": {\"type\": \"bar\", \"color\": \"#1e88e5\"}, \"encoding\": {\"color\": {\"condition\": {\"value\": \"#1e88e5\", \"selection\": {\"not\": \"selector006\"}}, \"value\": \"#b1010f\"}, \"size\": {\"condition\": {\"value\": 3, \"selection\": {\"not\": \"selector006\"}}, \"value\": 6}, \"tooltip\": [{\"type\": \"nominal\", \"field\": \"area_name\", \"title\": \"Area Name\"}, {\"type\": \"temporal\", \"field\": \"Date\", \"title\": \"Date\"}, {\"type\": \"quantitative\", \"field\": \"daily_Confirmed\", \"title\": \"Daily new cases\"}, {\"type\": \"quantitative\", \"field\": \"Confirmed\", \"title\": \"Total cases\"}], \"x\": {\"type\": \"temporal\", \"axis\": {\"labels\": false, \"title\": \" \"}, \"field\": \"Date\", \"scale\": {\"domain\": {\"selection\": \"selector005\"}}}, \"y\": {\"type\": \"quantitative\", \"axis\": {\"title\": \"Daily number of cases\"}, \"field\": \"daily_Confirmed\"}}, \"height\": 250, \"selection\": {\"selector006\": {\"type\": \"single\", \"on\": \"mouseover\", \"fields\": [\"Date\"], \"nearest\": true}}, \"title\": \"COVID-19 impact in Hubei Area\", \"width\": 800}, {\"mark\": {\"type\": \"bar\", \"color\": \"#1e88e5\"}, \"encoding\": {\"color\": {\"condition\": {\"value\": \"#1e88e5\", \"selection\": \"selector005\"}, \"value\": \"lightgray\"}, \"x\": {\"type\": \"temporal\", \"axis\": {\"title\": \" \"}, \"field\": \"Date\"}, \"y\": {\"type\": \"quantitative\", \"axis\": {\"title\": \" \"}, \"field\": \"daily_Confirmed\"}}, \"height\": 60, \"selection\": {\"selector005\": {\"type\": \"interval\", \"encodings\": [\"x\"]}}, \"width\": 800}], \"data\": {\"name\": \"data-adb44c36260c13b51e558c2b8133ca4f\"}, \"$schema\": \"https://vega.github.io/schema/vega-lite/v4.8.1.json\", \"datasets\": {\"data-adb44c36260c13b51e558c2b8133ca4f\": [{\"Country\": \"China\", \"CountryCode\": \"CN\", \"Province\": \"Hubei\", \"City\": \"\", \"CityCode\": \"\", \"Lat\": \"30.98\", \"Lon\": \"112.27\", \"Confirmed\": 444, \"Deaths\": 17, \"Recovered\": 28, \"Active\": 399, \"Date\": \"2020-01-22T00:00:00\", \"daily_Confirmed\": 0.0}, {\"Country\": \"China\", \"CountryCode\": \"CN\", \"Province\": \"Hubei\", \"City\": \"\", \"CityCode\": \"\", \"Lat\": \"30.98\", \"Lon\": \"112.27\", \"Confirmed\": 444, \"Deaths\": 17, \"Recovered\": 28, \"Active\": 399, \"Date\": \"2020-01-23T00:00:00\", \"daily_Confirmed\": 0.0}, {\"Country\": \"China\", \"CountryCode\": \"CN\", \"Province\": \"Hubei\", \"City\": \"\", \"CityCode\": \"\", \"Lat\": \"30.98\", \"Lon\": \"112.27\", \"Confirmed\": 549, \"Deaths\": 24, \"Recovered\": 31, \"Active\": 494, \"Date\": \"2020-01-24T00:00:00\", \"daily_Confirmed\": 105.0}, {\"Country\": \"China\", \"CountryCode\": \"CN\", \"Province\": \"Hubei\", \"City\": \"\", \"CityCode\": \"\", \"Lat\": \"30.98\", \"Lon\": \"112.27\", \"Confirmed\": 761, \"Deaths\": 40, \"Recovered\": 32, \"Active\": 689, \"Date\": \"2020-01-25T00:00:00\", \"daily_Confirmed\": 212.0}, {\"Country\": \"China\", \"CountryCode\": \"CN\", \"Province\": \"Hubei\", \"City\": \"\", \"CityCode\": \"\", \"Lat\": \"30.98\", \"Lon\": \"112.27\", \"Confirmed\": 1058, \"Deaths\": 52, \"Recovered\": 42, \"Active\": 964, \"Date\": \"2020-01-26T00:00:00\", \"daily_Confirmed\": 297.0}, {\"Country\": \"China\", \"CountryCode\": \"CN\", \"Province\": \"Hubei\", \"City\": \"\", \"CityCode\": \"\", \"Lat\": \"30.98\", \"Lon\": \"112.27\", \"Confirmed\": 1423, \"Deaths\": 76, \"Recovered\": 45, \"Active\": 1302, \"Date\": \"2020-01-27T00:00:00\", \"daily_Confirmed\": 365.0}, {\"Country\": \"China\", \"CountryCode\": \"CN\", \"Province\": \"Hubei\", \"City\": \"\", \"CityCode\": \"\", \"Lat\": \"30.98\", \"Lon\": \"112.27\", \"Confirmed\": 3554, \"Deaths\": 125, \"Recovered\": 80, \"Active\": 3349, \"Date\": \"2020-01-28T00:00:00\", \"daily_Confirmed\": 2131.0}, {\"Country\": \"China\", \"CountryCode\": \"CN\", \"Province\": \"Hubei\", \"City\": \"\", \"CityCode\": \"\", \"Lat\": \"30.98\", \"Lon\": \"112.27\", \"Confirmed\": 3554, \"Deaths\": 125, \"Recovered\": 88, \"Active\": 3341, \"Date\": \"2020-01-29T00:00:00\", \"daily_Confirmed\": 0.0}, {\"Country\": \"China\", \"CountryCode\": \"CN\", \"Province\": \"Hubei\", \"City\": \"\", \"CityCode\": \"\", \"Lat\": \"30.98\", \"Lon\": \"112.27\", \"Confirmed\": 4903, \"Deaths\": 162, \"Recovered\": 90, \"Active\": 4651, \"Date\": \"2020-01-30T00:00:00\", \"daily_Confirmed\": 1349.0}, {\"Country\": \"China\", \"CountryCode\": \"CN\", \"Province\": \"Hubei\", \"City\": \"\", \"CityCode\": \"\", \"Lat\": \"30.98\", \"Lon\": \"112.27\", \"Confirmed\": 5806, \"Deaths\": 204, \"Recovered\": 141, \"Active\": 5461, \"Date\": \"2020-01-31T00:00:00\", \"daily_Confirmed\": 903.0}, {\"Country\": \"China\", \"CountryCode\": \"CN\", \"Province\": \"Hubei\", \"City\": \"\", \"CityCode\": \"\", \"Lat\": \"30.98\", \"Lon\": \"112.27\", \"Confirmed\": 7153, \"Deaths\": 249, \"Recovered\": 168, \"Active\": 6736, \"Date\": \"2020-02-01T00:00:00\", \"daily_Confirmed\": 1347.0}, {\"Country\": \"China\", \"CountryCode\": \"CN\", \"Province\": \"Hubei\", \"City\": \"\", \"CityCode\": \"\", \"Lat\": \"30.98\", \"Lon\": \"112.27\", \"Confirmed\": 11177, \"Deaths\": 350, \"Recovered\": 295, \"Active\": 10532, \"Date\": \"2020-02-02T00:00:00\", \"daily_Confirmed\": 4024.0}, {\"Country\": \"China\", \"CountryCode\": \"CN\", \"Province\": \"Hubei\", \"City\": \"\", \"CityCode\": \"\", \"Lat\": \"30.98\", \"Lon\": \"112.27\", \"Confirmed\": 13522, \"Deaths\": 414, \"Recovered\": 386, \"Active\": 12722, \"Date\": \"2020-02-03T00:00:00\", \"daily_Confirmed\": 2345.0}, {\"Country\": \"China\", \"CountryCode\": \"CN\", \"Province\": \"Hubei\", \"City\": \"\", \"CityCode\": \"\", \"Lat\": \"30.98\", \"Lon\": \"112.27\", \"Confirmed\": 16678, \"Deaths\": 479, \"Recovered\": 522, \"Active\": 15677, \"Date\": \"2020-02-04T00:00:00\", \"daily_Confirmed\": 3156.0}, {\"Country\": \"China\", \"CountryCode\": \"CN\", \"Province\": \"Hubei\", \"City\": \"\", \"CityCode\": \"\", \"Lat\": \"30.98\", \"Lon\": \"112.27\", \"Confirmed\": 19665, \"Deaths\": 549, \"Recovered\": 633, \"Active\": 18483, \"Date\": \"2020-02-05T00:00:00\", \"daily_Confirmed\": 2987.0}, {\"Country\": \"China\", \"CountryCode\": \"CN\", \"Province\": \"Hubei\", \"City\": \"\", \"CityCode\": \"\", \"Lat\": \"30.98\", \"Lon\": \"112.27\", \"Confirmed\": 22112, \"Deaths\": 618, \"Recovered\": 817, \"Active\": 20677, \"Date\": \"2020-02-06T00:00:00\", \"daily_Confirmed\": 2447.0}, {\"Country\": \"China\", \"CountryCode\": \"CN\", \"Province\": \"Hubei\", \"City\": \"\", \"CityCode\": \"\", \"Lat\": \"30.98\", \"Lon\": \"112.27\", \"Confirmed\": 24953, \"Deaths\": 699, \"Recovered\": 1115, \"Active\": 23139, \"Date\": \"2020-02-07T00:00:00\", \"daily_Confirmed\": 2841.0}, {\"Country\": \"China\", \"CountryCode\": \"CN\", \"Province\": \"Hubei\", \"City\": \"\", \"CityCode\": \"\", \"Lat\": \"30.98\", \"Lon\": \"112.27\", \"Confirmed\": 27100, \"Deaths\": 780, \"Recovered\": 1439, \"Active\": 24881, \"Date\": \"2020-02-08T00:00:00\", \"daily_Confirmed\": 2147.0}, {\"Country\": \"China\", \"CountryCode\": \"CN\", \"Province\": \"Hubei\", \"City\": \"\", \"CityCode\": \"\", \"Lat\": \"30.98\", \"Lon\": \"112.27\", \"Confirmed\": 29631, \"Deaths\": 871, \"Recovered\": 1795, \"Active\": 26965, \"Date\": \"2020-02-09T00:00:00\", \"daily_Confirmed\": 2531.0}, {\"Country\": \"China\", \"CountryCode\": \"CN\", \"Province\": \"Hubei\", \"City\": \"\", \"CityCode\": \"\", \"Lat\": \"30.98\", \"Lon\": \"112.27\", \"Confirmed\": 31728, \"Deaths\": 974, \"Recovered\": 2222, \"Active\": 28532, \"Date\": \"2020-02-10T00:00:00\", \"daily_Confirmed\": 2097.0}, {\"Country\": \"China\", \"CountryCode\": \"CN\", \"Province\": \"Hubei\", \"City\": \"\", \"CityCode\": \"\", \"Lat\": \"30.98\", \"Lon\": \"112.27\", \"Confirmed\": 33366, \"Deaths\": 1068, \"Recovered\": 2639, \"Active\": 29659, \"Date\": \"2020-02-11T00:00:00\", \"daily_Confirmed\": 1638.0}, {\"Country\": \"China\", \"CountryCode\": \"CN\", \"Province\": \"Hubei\", \"City\": \"\", \"CityCode\": \"\", \"Lat\": \"30.98\", \"Lon\": \"112.27\", \"Confirmed\": 33366, \"Deaths\": 1068, \"Recovered\": 2686, \"Active\": 29612, \"Date\": \"2020-02-12T00:00:00\", \"daily_Confirmed\": 0.0}, {\"Country\": \"China\", \"CountryCode\": \"CN\", \"Province\": \"Hubei\", \"City\": \"\", \"CityCode\": \"\", \"Lat\": \"30.98\", \"Lon\": \"112.27\", \"Confirmed\": 48206, \"Deaths\": 1310, \"Recovered\": 3459, \"Active\": 43437, \"Date\": \"2020-02-13T00:00:00\", \"daily_Confirmed\": 14840.0}, {\"Country\": \"China\", \"CountryCode\": \"CN\", \"Province\": \"Hubei\", \"City\": \"\", \"CityCode\": \"\", \"Lat\": \"30.98\", \"Lon\": \"112.27\", \"Confirmed\": 54406, \"Deaths\": 1457, \"Recovered\": 4774, \"Active\": 48175, \"Date\": \"2020-02-14T00:00:00\", \"daily_Confirmed\": 6200.0}, {\"Country\": \"China\", \"CountryCode\": \"CN\", \"Province\": \"Hubei\", \"City\": \"\", \"CityCode\": \"\", \"Lat\": \"30.98\", \"Lon\": \"112.27\", \"Confirmed\": 56249, \"Deaths\": 1596, \"Recovered\": 5623, \"Active\": 49030, \"Date\": \"2020-02-15T00:00:00\", \"daily_Confirmed\": 1843.0}, {\"Country\": \"China\", \"CountryCode\": \"CN\", \"Province\": \"Hubei\", \"City\": \"\", \"CityCode\": \"\", \"Lat\": \"30.98\", \"Lon\": \"112.27\", \"Confirmed\": 58182, \"Deaths\": 1696, \"Recovered\": 6639, \"Active\": 49847, \"Date\": \"2020-02-16T00:00:00\", \"daily_Confirmed\": 1933.0}, {\"Country\": \"China\", \"CountryCode\": \"CN\", \"Province\": \"Hubei\", \"City\": \"\", \"CityCode\": \"\", \"Lat\": \"30.98\", \"Lon\": \"112.27\", \"Confirmed\": 59989, \"Deaths\": 1789, \"Recovered\": 7862, \"Active\": 50338, \"Date\": \"2020-02-17T00:00:00\", \"daily_Confirmed\": 1807.0}, {\"Country\": \"China\", \"CountryCode\": \"CN\", \"Province\": \"Hubei\", \"City\": \"\", \"CityCode\": \"\", \"Lat\": \"30.98\", \"Lon\": \"112.27\", \"Confirmed\": 61682, \"Deaths\": 1921, \"Recovered\": 9128, \"Active\": 50633, \"Date\": \"2020-02-18T00:00:00\", \"daily_Confirmed\": 1693.0}, {\"Country\": \"China\", \"CountryCode\": \"CN\", \"Province\": \"Hubei\", \"City\": \"\", \"CityCode\": \"\", \"Lat\": \"30.98\", \"Lon\": \"112.27\", \"Confirmed\": 62031, \"Deaths\": 2029, \"Recovered\": 10337, \"Active\": 49665, \"Date\": \"2020-02-19T00:00:00\", \"daily_Confirmed\": 349.0}, {\"Country\": \"China\", \"CountryCode\": \"CN\", \"Province\": \"Hubei\", \"City\": \"\", \"CityCode\": \"\", \"Lat\": \"30.98\", \"Lon\": \"112.27\", \"Confirmed\": 62442, \"Deaths\": 2144, \"Recovered\": 11788, \"Active\": 48510, \"Date\": \"2020-02-20T00:00:00\", \"daily_Confirmed\": 411.0}, {\"Country\": \"China\", \"CountryCode\": \"CN\", \"Province\": \"Hubei\", \"City\": \"\", \"CityCode\": \"\", \"Lat\": \"30.98\", \"Lon\": \"112.27\", \"Confirmed\": 62662, \"Deaths\": 2144, \"Recovered\": 11881, \"Active\": 48637, \"Date\": \"2020-02-21T00:00:00\", \"daily_Confirmed\": 220.0}, {\"Country\": \"China\", \"CountryCode\": \"CN\", \"Province\": \"Hubei\", \"City\": \"\", \"CityCode\": \"\", \"Lat\": \"30.98\", \"Lon\": \"112.27\", \"Confirmed\": 64084, \"Deaths\": 2346, \"Recovered\": 15299, \"Active\": 46439, \"Date\": \"2020-02-22T00:00:00\", \"daily_Confirmed\": 1422.0}, {\"Country\": \"China\", \"CountryCode\": \"CN\", \"Province\": \"Hubei\", \"City\": \"\", \"CityCode\": \"\", \"Lat\": \"30.98\", \"Lon\": \"112.27\", \"Confirmed\": 64084, \"Deaths\": 2346, \"Recovered\": 15343, \"Active\": 46395, \"Date\": \"2020-02-23T00:00:00\", \"daily_Confirmed\": 0.0}, {\"Country\": \"China\", \"CountryCode\": \"CN\", \"Province\": \"Hubei\", \"City\": \"\", \"CityCode\": \"\", \"Lat\": \"30.98\", \"Lon\": \"112.27\", \"Confirmed\": 64287, \"Deaths\": 2495, \"Recovered\": 16748, \"Active\": 45044, \"Date\": \"2020-02-24T00:00:00\", \"daily_Confirmed\": 203.0}, {\"Country\": \"China\", \"CountryCode\": \"CN\", \"Province\": \"Hubei\", \"City\": \"\", \"CityCode\": \"\", \"Lat\": \"30.98\", \"Lon\": \"112.27\", \"Confirmed\": 64786, \"Deaths\": 2563, \"Recovered\": 18971, \"Active\": 43252, \"Date\": \"2020-02-25T00:00:00\", \"daily_Confirmed\": 499.0}, {\"Country\": \"China\", \"CountryCode\": \"CN\", \"Province\": \"Hubei\", \"City\": \"\", \"CityCode\": \"\", \"Lat\": \"30.98\", \"Lon\": \"112.27\", \"Confirmed\": 65187, \"Deaths\": 2615, \"Recovered\": 20969, \"Active\": 41603, \"Date\": \"2020-02-26T00:00:00\", \"daily_Confirmed\": 401.0}, {\"Country\": \"China\", \"CountryCode\": \"CN\", \"Province\": \"Hubei\", \"City\": \"\", \"CityCode\": \"\", \"Lat\": \"30.98\", \"Lon\": \"112.27\", \"Confirmed\": 65596, \"Deaths\": 2641, \"Recovered\": 23383, \"Active\": 39572, \"Date\": \"2020-02-27T00:00:00\", \"daily_Confirmed\": 409.0}, {\"Country\": \"China\", \"CountryCode\": \"CN\", \"Province\": \"Hubei\", \"City\": \"\", \"CityCode\": \"\", \"Lat\": \"30.98\", \"Lon\": \"112.27\", \"Confirmed\": 65914, \"Deaths\": 2682, \"Recovered\": 26403, \"Active\": 36829, \"Date\": \"2020-02-28T00:00:00\", \"daily_Confirmed\": 318.0}, {\"Country\": \"China\", \"CountryCode\": \"CN\", \"Province\": \"Hubei\", \"City\": \"\", \"CityCode\": \"\", \"Lat\": \"30.98\", \"Lon\": \"112.27\", \"Confirmed\": 66337, \"Deaths\": 2727, \"Recovered\": 28993, \"Active\": 34617, \"Date\": \"2020-02-29T00:00:00\", \"daily_Confirmed\": 423.0}, {\"Country\": \"China\", \"CountryCode\": \"CN\", \"Province\": \"Hubei\", \"City\": \"\", \"CityCode\": \"\", \"Lat\": \"30.98\", \"Lon\": \"112.27\", \"Confirmed\": 66907, \"Deaths\": 2761, \"Recovered\": 31536, \"Active\": 32610, \"Date\": \"2020-03-01T00:00:00\", \"daily_Confirmed\": 570.0}, {\"Country\": \"China\", \"CountryCode\": \"CN\", \"Province\": \"Hubei\", \"City\": \"\", \"CityCode\": \"\", \"Lat\": \"30.98\", \"Lon\": \"112.27\", \"Confirmed\": 67103, \"Deaths\": 2803, \"Recovered\": 33934, \"Active\": 30366, \"Date\": \"2020-03-02T00:00:00\", \"daily_Confirmed\": 196.0}, {\"Country\": \"China\", \"CountryCode\": \"CN\", \"Province\": \"Hubei\", \"City\": \"\", \"CityCode\": \"\", \"Lat\": \"30.98\", \"Lon\": \"112.27\", \"Confirmed\": 67217, \"Deaths\": 2835, \"Recovered\": 36208, \"Active\": 28174, \"Date\": \"2020-03-03T00:00:00\", \"daily_Confirmed\": 114.0}, {\"Country\": \"China\", \"CountryCode\": \"CN\", \"Province\": \"Hubei\", \"City\": \"\", \"CityCode\": \"\", \"Lat\": \"30.98\", \"Lon\": \"112.27\", \"Confirmed\": 67332, \"Deaths\": 2871, \"Recovered\": 38557, \"Active\": 25904, \"Date\": \"2020-03-04T00:00:00\", \"daily_Confirmed\": 115.0}, {\"Country\": \"China\", \"CountryCode\": \"CN\", \"Province\": \"Hubei\", \"City\": \"\", \"CityCode\": \"\", \"Lat\": \"30.98\", \"Lon\": \"112.27\", \"Confirmed\": 67466, \"Deaths\": 2902, \"Recovered\": 40592, \"Active\": 23972, \"Date\": \"2020-03-05T00:00:00\", \"daily_Confirmed\": 134.0}, {\"Country\": \"China\", \"CountryCode\": \"CN\", \"Province\": \"Hubei\", \"City\": \"\", \"CityCode\": \"\", \"Lat\": \"30.98\", \"Lon\": \"112.27\", \"Confirmed\": 67592, \"Deaths\": 2931, \"Recovered\": 42033, \"Active\": 22628, \"Date\": \"2020-03-06T00:00:00\", \"daily_Confirmed\": 126.0}, {\"Country\": \"China\", \"CountryCode\": \"CN\", \"Province\": \"Hubei\", \"City\": \"\", \"CityCode\": \"\", \"Lat\": \"30.98\", \"Lon\": \"112.27\", \"Confirmed\": 67666, \"Deaths\": 2959, \"Recovered\": 43500, \"Active\": 21207, \"Date\": \"2020-03-07T00:00:00\", \"daily_Confirmed\": 74.0}, {\"Country\": \"China\", \"CountryCode\": \"CN\", \"Province\": \"Hubei\", \"City\": \"\", \"CityCode\": \"\", \"Lat\": \"30.98\", \"Lon\": \"112.27\", \"Confirmed\": 67707, \"Deaths\": 2986, \"Recovered\": 45235, \"Active\": 19486, \"Date\": \"2020-03-08T00:00:00\", \"daily_Confirmed\": 41.0}, {\"Country\": \"China\", \"CountryCode\": \"CN\", \"Province\": \"Hubei\", \"City\": \"\", \"CityCode\": \"\", \"Lat\": \"30.98\", \"Lon\": \"112.27\", \"Confirmed\": 67743, \"Deaths\": 3008, \"Recovered\": 46488, \"Active\": 18247, \"Date\": \"2020-03-09T00:00:00\", \"daily_Confirmed\": 36.0}, {\"Country\": \"China\", \"CountryCode\": \"CN\", \"Province\": \"Hubei\", \"City\": \"\", \"CityCode\": \"\", \"Lat\": \"30.98\", \"Lon\": \"112.27\", \"Confirmed\": 67760, \"Deaths\": 3024, \"Recovered\": 47743, \"Active\": 16993, \"Date\": \"2020-03-10T00:00:00\", \"daily_Confirmed\": 17.0}, {\"Country\": \"China\", \"CountryCode\": \"CN\", \"Province\": \"Hubei\", \"City\": \"\", \"CityCode\": \"\", \"Lat\": \"30.98\", \"Lon\": \"112.27\", \"Confirmed\": 67773, \"Deaths\": 3046, \"Recovered\": 49134, \"Active\": 15593, \"Date\": \"2020-03-11T00:00:00\", \"daily_Confirmed\": 13.0}, {\"Country\": \"China\", \"CountryCode\": \"CN\", \"Province\": \"Hubei\", \"City\": \"\", \"CityCode\": \"\", \"Lat\": \"30.98\", \"Lon\": \"112.27\", \"Confirmed\": 67781, \"Deaths\": 3056, \"Recovered\": 50318, \"Active\": 14407, \"Date\": \"2020-03-12T00:00:00\", \"daily_Confirmed\": 8.0}, {\"Country\": \"China\", \"CountryCode\": \"CN\", \"Province\": \"Hubei\", \"City\": \"\", \"CityCode\": \"\", \"Lat\": \"30.98\", \"Lon\": \"112.27\", \"Confirmed\": 67786, \"Deaths\": 3062, \"Recovered\": 51553, \"Active\": 13171, \"Date\": \"2020-03-13T00:00:00\", \"daily_Confirmed\": 5.0}, {\"Country\": \"China\", \"CountryCode\": \"CN\", \"Province\": \"Hubei\", \"City\": \"\", \"CityCode\": \"\", \"Lat\": \"30.98\", \"Lon\": \"112.27\", \"Confirmed\": 67790, \"Deaths\": 3075, \"Recovered\": 52960, \"Active\": 11755, \"Date\": \"2020-03-14T00:00:00\", \"daily_Confirmed\": 4.0}, {\"Country\": \"China\", \"CountryCode\": \"CN\", \"Province\": \"Hubei\", \"City\": \"\", \"CityCode\": \"\", \"Lat\": \"30.98\", \"Lon\": \"112.27\", \"Confirmed\": 67794, \"Deaths\": 3085, \"Recovered\": 54288, \"Active\": 10421, \"Date\": \"2020-03-15T00:00:00\", \"daily_Confirmed\": 4.0}, {\"Country\": \"China\", \"CountryCode\": \"CN\", \"Province\": \"Hubei\", \"City\": \"\", \"CityCode\": \"\", \"Lat\": \"30.98\", \"Lon\": \"112.27\", \"Confirmed\": 67798, \"Deaths\": 3099, \"Recovered\": 55142, \"Active\": 9557, \"Date\": \"2020-03-16T00:00:00\", \"daily_Confirmed\": 4.0}, {\"Country\": \"China\", \"CountryCode\": \"CN\", \"Province\": \"Hubei\", \"City\": \"\", \"CityCode\": \"\", \"Lat\": \"30.98\", \"Lon\": \"112.27\", \"Confirmed\": 67799, \"Deaths\": 3111, \"Recovered\": 56003, \"Active\": 8685, \"Date\": \"2020-03-17T00:00:00\", \"daily_Confirmed\": 1.0}, {\"Country\": \"China\", \"CountryCode\": \"CN\", \"Province\": \"Hubei\", \"City\": \"\", \"CityCode\": \"\", \"Lat\": \"30.98\", \"Lon\": \"112.27\", \"Confirmed\": 67800, \"Deaths\": 3122, \"Recovered\": 56927, \"Active\": 7751, \"Date\": \"2020-03-18T00:00:00\", \"daily_Confirmed\": 1.0}, {\"Country\": \"China\", \"CountryCode\": \"CN\", \"Province\": \"Hubei\", \"City\": \"\", \"CityCode\": \"\", \"Lat\": \"30.98\", \"Lon\": \"112.27\", \"Confirmed\": 67800, \"Deaths\": 3130, \"Recovered\": 57682, \"Active\": 6988, \"Date\": \"2020-03-19T00:00:00\", \"daily_Confirmed\": 0.0}, {\"Country\": \"China\", \"CountryCode\": \"CN\", \"Province\": \"Hubei\", \"City\": \"\", \"CityCode\": \"\", \"Lat\": \"30.98\", \"Lon\": \"112.27\", \"Confirmed\": 67800, \"Deaths\": 3133, \"Recovered\": 58382, \"Active\": 6285, \"Date\": \"2020-03-20T00:00:00\", \"daily_Confirmed\": 0.0}, {\"Country\": \"China\", \"CountryCode\": \"CN\", \"Province\": \"Hubei\", \"City\": \"\", \"CityCode\": \"\", \"Lat\": \"30.98\", \"Lon\": \"112.27\", \"Confirmed\": 67800, \"Deaths\": 3139, \"Recovered\": 58946, \"Active\": 5715, \"Date\": \"2020-03-21T00:00:00\", \"daily_Confirmed\": 0.0}, {\"Country\": \"China\", \"CountryCode\": \"CN\", \"Province\": \"Hubei\", \"City\": \"\", \"CityCode\": \"\", \"Lat\": \"30.98\", \"Lon\": \"112.27\", \"Confirmed\": 67800, \"Deaths\": 3153, \"Recovered\": 59433, \"Active\": 5214, \"Date\": \"2020-03-22T00:00:00\", \"daily_Confirmed\": 0.0}, {\"Country\": \"China\", \"CountryCode\": \"CN\", \"Province\": \"Hubei\", \"City\": \"\", \"CityCode\": \"\", \"Lat\": \"30.98\", \"Lon\": \"112.27\", \"Confirmed\": 67800, \"Deaths\": 3153, \"Recovered\": 59879, \"Active\": 4768, \"Date\": \"2020-03-23T00:00:00\", \"daily_Confirmed\": 0.0}, {\"Country\": \"China\", \"CountryCode\": \"CN\", \"Province\": \"Hubei\", \"City\": \"\", \"CityCode\": \"\", \"Lat\": \"30.98\", \"Lon\": \"112.27\", \"Confirmed\": 67801, \"Deaths\": 3160, \"Recovered\": 60324, \"Active\": 4317, \"Date\": \"2020-03-24T00:00:00\", \"daily_Confirmed\": 1.0}, {\"Country\": \"China\", \"CountryCode\": \"CN\", \"Province\": \"Hubei\", \"City\": \"\", \"CityCode\": \"\", \"Lat\": \"30.98\", \"Lon\": \"112.27\", \"Confirmed\": 67801, \"Deaths\": 3163, \"Recovered\": 60811, \"Active\": 3827, \"Date\": \"2020-03-25T00:00:00\", \"daily_Confirmed\": 0.0}, {\"Country\": \"China\", \"CountryCode\": \"CN\", \"Province\": \"Hubei\", \"City\": \"\", \"CityCode\": \"\", \"Lat\": \"30.98\", \"Lon\": \"112.27\", \"Confirmed\": 67801, \"Deaths\": 3169, \"Recovered\": 61201, \"Active\": 3431, \"Date\": \"2020-03-26T00:00:00\", \"daily_Confirmed\": 0.0}, {\"Country\": \"China\", \"CountryCode\": \"CN\", \"Province\": \"Hubei\", \"City\": \"\", \"CityCode\": \"\", \"Lat\": \"30.98\", \"Lon\": \"112.27\", \"Confirmed\": 67801, \"Deaths\": 3174, \"Recovered\": 61732, \"Active\": 2895, \"Date\": \"2020-03-27T00:00:00\", \"daily_Confirmed\": 0.0}, {\"Country\": \"China\", \"CountryCode\": \"CN\", \"Province\": \"Hubei\", \"City\": \"\", \"CityCode\": \"\", \"Lat\": \"30.98\", \"Lon\": \"112.27\", \"Confirmed\": 67801, \"Deaths\": 3177, \"Recovered\": 62098, \"Active\": 2526, \"Date\": \"2020-03-28T00:00:00\", \"daily_Confirmed\": 0.0}, {\"Country\": \"China\", \"CountryCode\": \"CN\", \"Province\": \"Hubei\", \"City\": \"\", \"CityCode\": \"\", \"Lat\": \"30.98\", \"Lon\": \"112.27\", \"Confirmed\": 67801, \"Deaths\": 3182, \"Recovered\": 62570, \"Active\": 2049, \"Date\": \"2020-03-29T00:00:00\", \"daily_Confirmed\": 0.0}, {\"Country\": \"China\", \"CountryCode\": \"CN\", \"Province\": \"Hubei\", \"City\": \"\", \"CityCode\": \"\", \"Lat\": \"30.98\", \"Lon\": \"112.27\", \"Confirmed\": 67801, \"Deaths\": 3186, \"Recovered\": 62889, \"Active\": 1726, \"Date\": \"2020-03-30T00:00:00\", \"daily_Confirmed\": 0.0}, {\"Country\": \"China\", \"CountryCode\": \"CN\", \"Province\": \"Hubei\", \"City\": \"\", \"CityCode\": \"\", \"Lat\": \"30.98\", \"Lon\": \"112.27\", \"Confirmed\": 67801, \"Deaths\": 3187, \"Recovered\": 63153, \"Active\": 1461, \"Date\": \"2020-03-31T00:00:00\", \"daily_Confirmed\": 0.0}, {\"Country\": \"China\", \"CountryCode\": \"CN\", \"Province\": \"Hubei\", \"City\": \"\", \"CityCode\": \"\", \"Lat\": \"30.98\", \"Lon\": \"112.27\", \"Confirmed\": 67802, \"Deaths\": 3193, \"Recovered\": 63326, \"Active\": 1283, \"Date\": \"2020-04-01T00:00:00\", \"daily_Confirmed\": 1.0}, {\"Country\": \"China\", \"CountryCode\": \"CN\", \"Province\": \"Hubei\", \"City\": \"\", \"CityCode\": \"\", \"Lat\": \"30.98\", \"Lon\": \"112.27\", \"Confirmed\": 67802, \"Deaths\": 3199, \"Recovered\": 63471, \"Active\": 1132, \"Date\": \"2020-04-02T00:00:00\", \"daily_Confirmed\": 0.0}, {\"Country\": \"China\", \"CountryCode\": \"CN\", \"Province\": \"Hubei\", \"City\": \"\", \"CityCode\": \"\", \"Lat\": \"30.98\", \"Lon\": \"112.27\", \"Confirmed\": 67802, \"Deaths\": 3203, \"Recovered\": 63612, \"Active\": 987, \"Date\": \"2020-04-03T00:00:00\", \"daily_Confirmed\": 0.0}, {\"Country\": \"China\", \"CountryCode\": \"CN\", \"Province\": \"Hubei\", \"City\": \"\", \"CityCode\": \"\", \"Lat\": \"30.98\", \"Lon\": \"112.27\", \"Confirmed\": 67803, \"Deaths\": 3207, \"Recovered\": 63762, \"Active\": 834, \"Date\": \"2020-04-04T00:00:00\", \"daily_Confirmed\": 1.0}, {\"Country\": \"China\", \"CountryCode\": \"CN\", \"Province\": \"Hubei\", \"City\": \"\", \"CityCode\": \"\", \"Lat\": \"30.98\", \"Lon\": \"112.27\", \"Confirmed\": 67803, \"Deaths\": 3210, \"Recovered\": 63945, \"Active\": 648, \"Date\": \"2020-04-05T00:00:00\", \"daily_Confirmed\": 0.0}, {\"Country\": \"China\", \"CountryCode\": \"CN\", \"Province\": \"Hubei\", \"City\": \"\", \"CityCode\": \"\", \"Lat\": \"30.98\", \"Lon\": \"112.27\", \"Confirmed\": 67803, \"Deaths\": 3212, \"Recovered\": 64014, \"Active\": 577, \"Date\": \"2020-04-06T00:00:00\", \"daily_Confirmed\": 0.0}, {\"Country\": \"China\", \"CountryCode\": \"CN\", \"Province\": \"Hubei\", \"City\": \"\", \"CityCode\": \"\", \"Lat\": \"30.98\", \"Lon\": \"112.27\", \"Confirmed\": 67803, \"Deaths\": 3212, \"Recovered\": 64073, \"Active\": 518, \"Date\": \"2020-04-07T00:00:00\", \"daily_Confirmed\": 0.0}, {\"Country\": \"China\", \"CountryCode\": \"CN\", \"Province\": \"Hubei\", \"City\": \"\", \"CityCode\": \"\", \"Lat\": \"30.98\", \"Lon\": \"112.27\", \"Confirmed\": 67803, \"Deaths\": 3213, \"Recovered\": 64142, \"Active\": 448, \"Date\": \"2020-04-08T00:00:00\", \"daily_Confirmed\": 0.0}, {\"Country\": \"China\", \"CountryCode\": \"CN\", \"Province\": \"Hubei\", \"City\": \"\", \"CityCode\": \"\", \"Lat\": \"30.98\", \"Lon\": \"112.27\", \"Confirmed\": 67803, \"Deaths\": 3215, \"Recovered\": 64187, \"Active\": 401, \"Date\": \"2020-04-09T00:00:00\", \"daily_Confirmed\": 0.0}, {\"Country\": \"China\", \"CountryCode\": \"CN\", \"Province\": \"Hubei\", \"City\": \"\", \"CityCode\": \"\", \"Lat\": \"30.98\", \"Lon\": \"112.27\", \"Confirmed\": 67803, \"Deaths\": 3216, \"Recovered\": 64236, \"Active\": 351, \"Date\": \"2020-04-10T00:00:00\", \"daily_Confirmed\": 0.0}, {\"Country\": \"China\", \"CountryCode\": \"CN\", \"Province\": \"Hubei\", \"City\": \"\", \"CityCode\": \"\", \"Lat\": \"30.98\", \"Lon\": \"112.27\", \"Confirmed\": 67803, \"Deaths\": 3219, \"Recovered\": 64264, \"Active\": 320, \"Date\": \"2020-04-11T00:00:00\", \"daily_Confirmed\": 0.0}, {\"Country\": \"China\", \"CountryCode\": \"CN\", \"Province\": \"Hubei\", \"City\": \"\", \"CityCode\": \"\", \"Lat\": \"30.98\", \"Lon\": \"112.27\", \"Confirmed\": 67803, \"Deaths\": 3219, \"Recovered\": 64281, \"Active\": 303, \"Date\": \"2020-04-12T00:00:00\", \"daily_Confirmed\": 0.0}, {\"Country\": \"China\", \"CountryCode\": \"CN\", \"Province\": \"Hubei\", \"City\": \"\", \"CityCode\": \"\", \"Lat\": \"30.98\", \"Lon\": \"112.27\", \"Confirmed\": 67803, \"Deaths\": 3221, \"Recovered\": 64338, \"Active\": 244, \"Date\": \"2020-04-13T00:00:00\", \"daily_Confirmed\": 0.0}, {\"Country\": \"China\", \"CountryCode\": \"CN\", \"Province\": \"Hubei\", \"City\": \"\", \"CityCode\": \"\", \"Lat\": \"30.98\", \"Lon\": \"112.27\", \"Confirmed\": 67803, \"Deaths\": 3221, \"Recovered\": 64363, \"Active\": 219, \"Date\": \"2020-04-14T00:00:00\", \"daily_Confirmed\": 0.0}, {\"Country\": \"China\", \"CountryCode\": \"CN\", \"Province\": \"Hubei\", \"City\": \"\", \"CityCode\": \"\", \"Lat\": \"30.98\", \"Lon\": \"112.27\", \"Confirmed\": 67803, \"Deaths\": 3222, \"Recovered\": 64402, \"Active\": 179, \"Date\": \"2020-04-15T00:00:00\", \"daily_Confirmed\": 0.0}, {\"Country\": \"China\", \"CountryCode\": \"CN\", \"Province\": \"Hubei\", \"City\": \"\", \"CityCode\": \"\", \"Lat\": \"30.98\", \"Lon\": \"112.27\", \"Confirmed\": 67803, \"Deaths\": 3222, \"Recovered\": 64435, \"Active\": 146, \"Date\": \"2020-04-16T00:00:00\", \"daily_Confirmed\": 0.0}, {\"Country\": \"China\", \"CountryCode\": \"CN\", \"Province\": \"Hubei\", \"City\": \"\", \"CityCode\": \"\", \"Lat\": \"30.98\", \"Lon\": \"112.27\", \"Confirmed\": 68128, \"Deaths\": 4512, \"Recovered\": 63487, \"Active\": 129, \"Date\": \"2020-04-17T00:00:00\", \"daily_Confirmed\": 325.0}, {\"Country\": \"China\", \"CountryCode\": \"CN\", \"Province\": \"Hubei\", \"City\": \"\", \"CityCode\": \"\", \"Lat\": \"30.98\", \"Lon\": \"112.27\", \"Confirmed\": 68128, \"Deaths\": 4512, \"Recovered\": 63494, \"Active\": 122, \"Date\": \"2020-04-18T00:00:00\", \"daily_Confirmed\": 0.0}, {\"Country\": \"China\", \"CountryCode\": \"CN\", \"Province\": \"Hubei\", \"City\": \"\", \"CityCode\": \"\", \"Lat\": \"30.98\", \"Lon\": \"112.27\", \"Confirmed\": 68128, \"Deaths\": 4512, \"Recovered\": 63507, \"Active\": 109, \"Date\": \"2020-04-19T00:00:00\", \"daily_Confirmed\": 0.0}, {\"Country\": \"China\", \"CountryCode\": \"CN\", \"Province\": \"Hubei\", \"City\": \"\", \"CityCode\": \"\", \"Lat\": \"30.98\", \"Lon\": \"112.27\", \"Confirmed\": 68128, \"Deaths\": 4512, \"Recovered\": 63511, \"Active\": 105, \"Date\": \"2020-04-20T00:00:00\", \"daily_Confirmed\": 0.0}, {\"Country\": \"China\", \"CountryCode\": \"CN\", \"Province\": \"Hubei\", \"City\": \"\", \"CityCode\": \"\", \"Lat\": \"30.98\", \"Lon\": \"112.27\", \"Confirmed\": 68128, \"Deaths\": 4512, \"Recovered\": 63514, \"Active\": 102, \"Date\": \"2020-04-21T00:00:00\", \"daily_Confirmed\": 0.0}, {\"Country\": \"China\", \"CountryCode\": \"CN\", \"Province\": \"Hubei\", \"City\": \"\", \"CityCode\": \"\", \"Lat\": \"30.98\", \"Lon\": \"112.27\", \"Confirmed\": 68128, \"Deaths\": 4512, \"Recovered\": 63519, \"Active\": 97, \"Date\": \"2020-04-22T00:00:00\", \"daily_Confirmed\": 0.0}, {\"Country\": \"China\", \"CountryCode\": \"CN\", \"Province\": \"Hubei\", \"City\": \"\", \"CityCode\": \"\", \"Lat\": \"30.98\", \"Lon\": \"112.27\", \"Confirmed\": 68128, \"Deaths\": 4512, \"Recovered\": 63569, \"Active\": 47, \"Date\": \"2020-04-23T00:00:00\", \"daily_Confirmed\": 0.0}, {\"Country\": \"China\", \"CountryCode\": \"CN\", \"Province\": \"Hubei\", \"City\": \"\", \"CityCode\": \"\", \"Lat\": \"30.98\", \"Lon\": \"112.27\", \"Confirmed\": 68128, \"Deaths\": 4512, \"Recovered\": 63593, \"Active\": 23, \"Date\": \"2020-04-24T00:00:00\", \"daily_Confirmed\": 0.0}, {\"Country\": \"China\", \"CountryCode\": \"CN\", \"Province\": \"Hubei\", \"City\": \"\", \"CityCode\": \"\", \"Lat\": \"30.98\", \"Lon\": \"112.27\", \"Confirmed\": 68128, \"Deaths\": 4512, \"Recovered\": 63604, \"Active\": 12, \"Date\": \"2020-04-25T00:00:00\", \"daily_Confirmed\": 0.0}, {\"Country\": \"China\", \"CountryCode\": \"CN\", \"Province\": \"Hubei\", \"City\": \"\", \"CityCode\": \"\", \"Lat\": \"30.98\", \"Lon\": \"112.27\", \"Confirmed\": 68128, \"Deaths\": 4512, \"Recovered\": 63616, \"Active\": 0, \"Date\": \"2020-04-26T00:00:00\", \"daily_Confirmed\": 0.0}, {\"Country\": \"China\", \"CountryCode\": \"CN\", \"Province\": \"Hubei\", \"City\": \"\", \"CityCode\": \"\", \"Lat\": \"30.98\", \"Lon\": \"112.27\", \"Confirmed\": 68128, \"Deaths\": 4512, \"Recovered\": 63616, \"Active\": 0, \"Date\": \"2020-04-27T00:00:00\", \"daily_Confirmed\": 0.0}, {\"Country\": \"China\", \"CountryCode\": \"CN\", \"Province\": \"Hubei\", \"City\": \"\", \"CityCode\": \"\", \"Lat\": \"30.98\", \"Lon\": \"112.27\", \"Confirmed\": 68128, \"Deaths\": 4512, \"Recovered\": 63616, \"Active\": 0, \"Date\": \"2020-04-28T00:00:00\", \"daily_Confirmed\": 0.0}, {\"Country\": \"China\", \"CountryCode\": \"CN\", \"Province\": \"Hubei\", \"City\": \"\", \"CityCode\": \"\", \"Lat\": \"30.98\", \"Lon\": \"112.27\", \"Confirmed\": 68128, \"Deaths\": 4512, \"Recovered\": 63616, \"Active\": 0, \"Date\": \"2020-04-29T00:00:00\", \"daily_Confirmed\": 0.0}, {\"Country\": \"China\", \"CountryCode\": \"CN\", \"Province\": \"Hubei\", \"City\": \"\", \"CityCode\": \"\", \"Lat\": \"30.98\", \"Lon\": \"112.27\", \"Confirmed\": 68128, \"Deaths\": 4512, \"Recovered\": 63616, \"Active\": 0, \"Date\": \"2020-04-30T00:00:00\", \"daily_Confirmed\": 0.0}, {\"Country\": \"China\", \"CountryCode\": \"CN\", \"Province\": \"Hubei\", \"City\": \"\", \"CityCode\": \"\", \"Lat\": \"30.98\", \"Lon\": \"112.27\", \"Confirmed\": 68128, \"Deaths\": 4512, \"Recovered\": 63616, \"Active\": 0, \"Date\": \"2020-05-01T00:00:00\", \"daily_Confirmed\": 0.0}, {\"Country\": \"China\", \"CountryCode\": \"CN\", \"Province\": \"Hubei\", \"City\": \"\", \"CityCode\": \"\", \"Lat\": \"30.98\", \"Lon\": \"112.27\", \"Confirmed\": 68128, \"Deaths\": 4512, \"Recovered\": 63616, \"Active\": 0, \"Date\": \"2020-05-02T00:00:00\", \"daily_Confirmed\": 0.0}, {\"Country\": \"China\", \"CountryCode\": \"CN\", \"Province\": \"Hubei\", \"City\": \"\", \"CityCode\": \"\", \"Lat\": \"30.98\", \"Lon\": \"112.27\", \"Confirmed\": 68128, \"Deaths\": 4512, \"Recovered\": 63616, \"Active\": 0, \"Date\": \"2020-05-03T00:00:00\", \"daily_Confirmed\": 0.0}, {\"Country\": \"China\", \"CountryCode\": \"CN\", \"Province\": \"Hubei\", \"City\": \"\", \"CityCode\": \"\", \"Lat\": \"30.98\", \"Lon\": \"112.27\", \"Confirmed\": 68128, \"Deaths\": 4512, \"Recovered\": 63616, \"Active\": 0, \"Date\": \"2020-05-04T00:00:00\", \"daily_Confirmed\": 0.0}, {\"Country\": \"China\", \"CountryCode\": \"CN\", \"Province\": \"Hubei\", \"City\": \"\", \"CityCode\": \"\", \"Lat\": \"30.98\", \"Lon\": \"112.27\", \"Confirmed\": 68128, \"Deaths\": 4512, \"Recovered\": 63616, \"Active\": 0, \"Date\": \"2020-05-05T00:00:00\", \"daily_Confirmed\": 0.0}, {\"Country\": \"China\", \"CountryCode\": \"CN\", \"Province\": \"Hubei\", \"City\": \"\", \"CityCode\": \"\", \"Lat\": \"30.98\", \"Lon\": \"112.27\", \"Confirmed\": 68128, \"Deaths\": 4512, \"Recovered\": 63616, \"Active\": 0, \"Date\": \"2020-05-06T00:00:00\", \"daily_Confirmed\": 0.0}, {\"Country\": \"China\", \"CountryCode\": \"CN\", \"Province\": \"Hubei\", \"City\": \"\", \"CityCode\": \"\", \"Lat\": \"30.98\", \"Lon\": \"112.27\", \"Confirmed\": 68128, \"Deaths\": 4512, \"Recovered\": 63616, \"Active\": 0, \"Date\": \"2020-05-07T00:00:00\", \"daily_Confirmed\": 0.0}, {\"Country\": \"China\", \"CountryCode\": \"CN\", \"Province\": \"Hubei\", \"City\": \"\", \"CityCode\": \"\", \"Lat\": \"30.98\", \"Lon\": \"112.27\", \"Confirmed\": 68128, \"Deaths\": 4512, \"Recovered\": 63616, \"Active\": 0, \"Date\": \"2020-05-08T00:00:00\", \"daily_Confirmed\": 0.0}, {\"Country\": \"China\", \"CountryCode\": \"CN\", \"Province\": \"Hubei\", \"City\": \"\", \"CityCode\": \"\", \"Lat\": \"30.98\", \"Lon\": \"112.27\", \"Confirmed\": 68129, \"Deaths\": 4512, \"Recovered\": 63616, \"Active\": 1, \"Date\": \"2020-05-09T00:00:00\", \"daily_Confirmed\": 1.0}, {\"Country\": \"China\", \"CountryCode\": \"CN\", \"Province\": \"Hubei\", \"City\": \"\", \"CityCode\": \"\", \"Lat\": \"30.98\", \"Lon\": \"112.27\", \"Confirmed\": 68134, \"Deaths\": 4512, \"Recovered\": 63616, \"Active\": 6, \"Date\": \"2020-05-10T00:00:00\", \"daily_Confirmed\": 5.0}, {\"Country\": \"China\", \"CountryCode\": \"CN\", \"Province\": \"Hubei\", \"City\": \"\", \"CityCode\": \"\", \"Lat\": \"30.98\", \"Lon\": \"112.27\", \"Confirmed\": 68134, \"Deaths\": 4512, \"Recovered\": 63616, \"Active\": 6, \"Date\": \"2020-05-11T00:00:00\", \"daily_Confirmed\": 0.0}, {\"Country\": \"China\", \"CountryCode\": \"CN\", \"Province\": \"Hubei\", \"City\": \"\", \"CityCode\": \"\", \"Lat\": \"30.98\", \"Lon\": \"112.27\", \"Confirmed\": 68134, \"Deaths\": 4512, \"Recovered\": 63616, \"Active\": 6, \"Date\": \"2020-05-12T00:00:00\", \"daily_Confirmed\": 0.0}, {\"Country\": \"China\", \"CountryCode\": \"CN\", \"Province\": \"Hubei\", \"City\": \"\", \"CityCode\": \"\", \"Lat\": \"30.98\", \"Lon\": \"112.27\", \"Confirmed\": 68134, \"Deaths\": 4512, \"Recovered\": 63616, \"Active\": 6, \"Date\": \"2020-05-13T00:00:00\", \"daily_Confirmed\": 0.0}, {\"Country\": \"China\", \"CountryCode\": \"CN\", \"Province\": \"Hubei\", \"City\": \"\", \"CityCode\": \"\", \"Lat\": \"30.98\", \"Lon\": \"112.27\", \"Confirmed\": 68134, \"Deaths\": 4512, \"Recovered\": 63616, \"Active\": 6, \"Date\": \"2020-05-14T00:00:00\", \"daily_Confirmed\": 0.0}, {\"Country\": \"China\", \"CountryCode\": \"CN\", \"Province\": \"Hubei\", \"City\": \"\", \"CityCode\": \"\", \"Lat\": \"30.98\", \"Lon\": \"112.27\", \"Confirmed\": 68134, \"Deaths\": 4512, \"Recovered\": 63616, \"Active\": 6, \"Date\": \"2020-05-15T00:00:00\", \"daily_Confirmed\": 0.0}, {\"Country\": \"China\", \"CountryCode\": \"CN\", \"Province\": \"Hubei\", \"City\": \"\", \"CityCode\": \"\", \"Lat\": \"30.98\", \"Lon\": \"112.27\", \"Confirmed\": 68134, \"Deaths\": 4512, \"Recovered\": 63616, \"Active\": 6, \"Date\": \"2020-05-16T00:00:00\", \"daily_Confirmed\": 0.0}, {\"Country\": \"China\", \"CountryCode\": \"CN\", \"Province\": \"Hubei\", \"City\": \"\", \"CityCode\": \"\", \"Lat\": \"30.98\", \"Lon\": \"112.27\", \"Confirmed\": 68134, \"Deaths\": 4512, \"Recovered\": 63616, \"Active\": 6, \"Date\": \"2020-05-17T00:00:00\", \"daily_Confirmed\": 0.0}, {\"Country\": \"China\", \"CountryCode\": \"CN\", \"Province\": \"Hubei\", \"City\": \"\", \"CityCode\": \"\", \"Lat\": \"30.98\", \"Lon\": \"112.27\", \"Confirmed\": 68135, \"Deaths\": 4512, \"Recovered\": 63616, \"Active\": 7, \"Date\": \"2020-05-18T00:00:00\", \"daily_Confirmed\": 1.0}, {\"Country\": \"China\", \"CountryCode\": \"CN\", \"Province\": \"Hubei\", \"City\": \"\", \"CityCode\": \"\", \"Lat\": \"30.98\", \"Lon\": \"112.27\", \"Confirmed\": 68135, \"Deaths\": 4512, \"Recovered\": 63616, \"Active\": 7, \"Date\": \"2020-05-19T00:00:00\", \"daily_Confirmed\": 0.0}, {\"Country\": \"China\", \"CountryCode\": \"CN\", \"Province\": \"Hubei\", \"City\": \"\", \"CityCode\": \"\", \"Lat\": \"30.98\", \"Lon\": \"112.27\", \"Confirmed\": 68135, \"Deaths\": 4512, \"Recovered\": 63616, \"Active\": 7, \"Date\": \"2020-05-20T00:00:00\", \"daily_Confirmed\": 0.0}, {\"Country\": \"China\", \"CountryCode\": \"CN\", \"Province\": \"Hubei\", \"City\": \"\", \"CityCode\": \"\", \"Lat\": \"30.98\", \"Lon\": \"112.27\", \"Confirmed\": 68135, \"Deaths\": 4512, \"Recovered\": 63616, \"Active\": 7, \"Date\": \"2020-05-21T00:00:00\", \"daily_Confirmed\": 0.0}, {\"Country\": \"China\", \"CountryCode\": \"CN\", \"Province\": \"Hubei\", \"City\": \"\", \"CityCode\": \"\", \"Lat\": \"30.98\", \"Lon\": \"112.27\", \"Confirmed\": 68135, \"Deaths\": 4512, \"Recovered\": 63616, \"Active\": 7, \"Date\": \"2020-05-22T00:00:00\", \"daily_Confirmed\": 0.0}, {\"Country\": \"China\", \"CountryCode\": \"CN\", \"Province\": \"Hubei\", \"City\": \"\", \"CityCode\": \"\", \"Lat\": \"30.98\", \"Lon\": \"112.27\", \"Confirmed\": 68135, \"Deaths\": 4512, \"Recovered\": 63616, \"Active\": 7, \"Date\": \"2020-05-23T00:00:00\", \"daily_Confirmed\": 0.0}, {\"Country\": \"China\", \"CountryCode\": \"CN\", \"Province\": \"Hubei\", \"City\": \"\", \"CityCode\": \"\", \"Lat\": \"30.98\", \"Lon\": \"112.27\", \"Confirmed\": 68135, \"Deaths\": 4512, \"Recovered\": 63617, \"Active\": 6, \"Date\": \"2020-05-24T00:00:00\", \"daily_Confirmed\": 0.0}, {\"Country\": \"China\", \"CountryCode\": \"CN\", \"Province\": \"Hubei\", \"City\": \"\", \"CityCode\": \"\", \"Lat\": \"30.98\", \"Lon\": \"112.27\", \"Confirmed\": 68135, \"Deaths\": 4512, \"Recovered\": 63617, \"Active\": 6, \"Date\": \"2020-05-25T00:00:00\", \"daily_Confirmed\": 0.0}, {\"Country\": \"China\", \"CountryCode\": \"CN\", \"Province\": \"Hubei\", \"City\": \"\", \"CityCode\": \"\", \"Lat\": \"30.98\", \"Lon\": \"112.27\", \"Confirmed\": 68135, \"Deaths\": 4512, \"Recovered\": 63618, \"Active\": 5, \"Date\": \"2020-05-26T00:00:00\", \"daily_Confirmed\": 0.0}, {\"Country\": \"China\", \"CountryCode\": \"CN\", \"Province\": \"Hubei\", \"City\": \"\", \"CityCode\": \"\", \"Lat\": \"30.98\", \"Lon\": \"112.27\", \"Confirmed\": 68135, \"Deaths\": 4512, \"Recovered\": 63618, \"Active\": 5, \"Date\": \"2020-05-27T00:00:00\", \"daily_Confirmed\": 0.0}, {\"Country\": \"China\", \"CountryCode\": \"CN\", \"Province\": \"Hubei\", \"City\": \"\", \"CityCode\": \"\", \"Lat\": \"30.98\", \"Lon\": \"112.27\", \"Confirmed\": 68135, \"Deaths\": 4512, \"Recovered\": 63618, \"Active\": 5, \"Date\": \"2020-05-28T00:00:00\", \"daily_Confirmed\": 0.0}, {\"Country\": \"China\", \"CountryCode\": \"CN\", \"Province\": \"Hubei\", \"City\": \"\", \"CityCode\": \"\", \"Lat\": \"30.98\", \"Lon\": \"112.27\", \"Confirmed\": 68135, \"Deaths\": 4512, \"Recovered\": 63619, \"Active\": 4, \"Date\": \"2020-05-29T00:00:00\", \"daily_Confirmed\": 0.0}, {\"Country\": \"China\", \"CountryCode\": \"CN\", \"Province\": \"Hubei\", \"City\": \"\", \"CityCode\": \"\", \"Lat\": \"30.98\", \"Lon\": \"112.27\", \"Confirmed\": 68135, \"Deaths\": 4512, \"Recovered\": 63619, \"Active\": 4, \"Date\": \"2020-05-30T00:00:00\", \"daily_Confirmed\": 0.0}]}}, {\"mode\": \"vega-lite\"});\n",
       "</script>"
      ],
      "text/plain": [
       "alt.VConcatChart(...)"
      ]
     },
     "execution_count": 11,
     "metadata": {},
     "output_type": "execute_result"
    }
   ],
   "source": [
    "brush = alt.selection(type=\"interval\", encodings=[\"x\"])\n",
    "\n",
    "highlight = alt.selection(type=\"single\", on=\"mouseover\", fields=[\"Date\"], nearest=True)\n",
    "\n",
    "base = (\n",
    "    alt.Chart(df_wuhan)\n",
    "    .mark_bar(color=\"#1e88e5\")\n",
    "    .encode(alt.X(\"Date:T\"), alt.Y(\"daily_Confirmed:Q\"))\n",
    "    .properties(width=800, height=250)\n",
    ")\n",
    "\n",
    "upper = (\n",
    "    base.encode(\n",
    "        alt.X(\n",
    "            \"Date:T\",\n",
    "            scale=alt.Scale(domain=brush),\n",
    "            axis=alt.Axis(labels=False, title=\" \"),\n",
    "        ),\n",
    "        alt.Y(\"daily_Confirmed:Q\", axis=alt.Axis(title=\"Daily number of cases\")),\n",
    "        color=alt.condition(~highlight, alt.value(\"#1e88e5\"), alt.value(\"#b1010f\")),\n",
    "        size=alt.condition(~highlight, alt.value(3), alt.value(6)),\n",
    "        tooltip=[\n",
    "            alt.Tooltip(\"area_name:N\", title=\"Area Name\"),\n",
    "            alt.Tooltip(\"Date:T\", title=\"Date\"),\n",
    "            alt.Tooltip(\"daily_Confirmed:Q\", title=\"Daily new cases\"),\n",
    "            alt.Tooltip(\"Confirmed:Q\", title=\"Total cases\"),\n",
    "        ],\n",
    "    )\n",
    "    .properties(title=\"COVID-19 impact in Hubei Area\")\n",
    "    .add_selection(highlight)\n",
    ")\n",
    "\n",
    "lower = (\n",
    "    base.encode(\n",
    "        alt.X(\"Date:T\", axis=alt.Axis(title=\" \")),\n",
    "        alt.Y(\"daily_Confirmed:Q\", axis=alt.Axis(title=\" \")),\n",
    "        color=alt.condition(brush, alt.value(\"#1e88e5\"), alt.value(\"lightgray\")),\n",
    "    )\n",
    "    .properties(height=60)\n",
    "    .add_selection(brush)\n",
    ")\n",
    "\n",
    "upper & lower"
   ]
  }
 ],
 "metadata": {
  "kernelspec": {
   "display_name": "Python 3",
   "language": "python",
   "name": "python3"
  },
  "language_info": {
   "codemirror_mode": {
    "name": "ipython",
    "version": 3
   },
   "file_extension": ".py",
   "mimetype": "text/x-python",
   "name": "python",
   "nbconvert_exporter": "python",
   "pygments_lexer": "ipython3",
   "version": "3.7.7"
  }
 },
 "nbformat": 4,
 "nbformat_minor": 4
}
